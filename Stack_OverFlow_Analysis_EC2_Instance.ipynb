{
 "cells": [
  {
   "cell_type": "markdown",
   "metadata": {
    "id": "pt9NUB2vLsnM"
   },
   "source": [
    "# Stack Overflow EDA "
   ]
  },
  {
   "cell_type": "markdown",
   "metadata": {
    "id": "zLyyRWH8L6yw"
   },
   "source": [
    "### Importing necessary packages"
   ]
  },
  {
   "cell_type": "code",
   "execution_count": 1,
   "metadata": {
    "id": "BN9dNFRJEOx6"
   },
   "outputs": [],
   "source": [
    "import pandas as pd\n",
    "import numpy as np\n",
    "import matplotlib.pyplot as plt\n",
    "import boto3\n",
    "import mysql.connector"
   ]
  },
  {
   "cell_type": "code",
   "execution_count": 2,
   "metadata": {},
   "outputs": [],
   "source": [
    "dbc = mysql.connector.connect(\n",
    "    host = \"chiraggodawat-project1.c0gjrzbxaqyw.us-east-1.rds.amazonaws.com\",\n",
    "    user = \"admin\",\n",
    "    passwd = \"project1\",\n",
    "    port = 3306,\n",
    "    db = \"stackoverflow\",\n",
    ")"
   ]
  },
  {
   "cell_type": "code",
   "execution_count": 3,
   "metadata": {},
   "outputs": [],
   "source": [
    "cur = dbc.cursor()"
   ]
  },
  {
   "cell_type": "code",
   "execution_count": 4,
   "metadata": {},
   "outputs": [
    {
     "ename": "ProgrammingError",
     "evalue": "1050 (42S01): Table 'stackoverflow' already exists",
     "output_type": "error",
     "traceback": [
      "\u001b[0;31m---------------------------------------------------------------------------\u001b[0m",
      "\u001b[0;31mMySQLInterfaceError\u001b[0m                       Traceback (most recent call last)",
      "\u001b[0;32m~/anaconda3/lib/python3.7/site-packages/mysql/connector/connection_cext.py\u001b[0m in \u001b[0;36mcmd_query\u001b[0;34m(self, query, raw, buffered, raw_as_string)\u001b[0m\n\u001b[1;32m    471\u001b[0m                                \u001b[0mraw\u001b[0m\u001b[0;34m=\u001b[0m\u001b[0mraw\u001b[0m\u001b[0;34m,\u001b[0m \u001b[0mbuffered\u001b[0m\u001b[0;34m=\u001b[0m\u001b[0mbuffered\u001b[0m\u001b[0;34m,\u001b[0m\u001b[0;34m\u001b[0m\u001b[0;34m\u001b[0m\u001b[0m\n\u001b[0;32m--> 472\u001b[0;31m                                raw_as_string=raw_as_string)\n\u001b[0m\u001b[1;32m    473\u001b[0m         \u001b[0;32mexcept\u001b[0m \u001b[0mMySQLInterfaceError\u001b[0m \u001b[0;32mas\u001b[0m \u001b[0mexc\u001b[0m\u001b[0;34m:\u001b[0m\u001b[0;34m\u001b[0m\u001b[0;34m\u001b[0m\u001b[0m\n",
      "\u001b[0;31mMySQLInterfaceError\u001b[0m: Table 'stackoverflow' already exists",
      "\nDuring handling of the above exception, another exception occurred:\n",
      "\u001b[0;31mProgrammingError\u001b[0m                          Traceback (most recent call last)",
      "\u001b[0;32m<ipython-input-4-5795334ed9dd>\u001b[0m in \u001b[0;36m<module>\u001b[0;34m\u001b[0m\n\u001b[1;32m      1\u001b[0m \u001b[0;31m#The below cell throws an error as the table was already created. Rerunning again gives this error\u001b[0m\u001b[0;34m\u001b[0m\u001b[0;34m\u001b[0m\u001b[0;34m\u001b[0m\u001b[0m\n\u001b[0;32m----> 2\u001b[0;31m \u001b[0mcur\u001b[0m\u001b[0;34m.\u001b[0m\u001b[0mexecute\u001b[0m\u001b[0;34m(\u001b[0m\u001b[0;34m\"CREATE TABLE stackoverflow (Question VARCHAR(500), Answer VARCHAR(5000))\"\u001b[0m\u001b[0;34m)\u001b[0m\u001b[0;34m\u001b[0m\u001b[0;34m\u001b[0m\u001b[0m\n\u001b[0m",
      "\u001b[0;32m~/anaconda3/lib/python3.7/site-packages/mysql/connector/cursor_cext.py\u001b[0m in \u001b[0;36mexecute\u001b[0;34m(self, operation, params, multi)\u001b[0m\n\u001b[1;32m    264\u001b[0m             result = self._cnx.cmd_query(stmt, raw=self._raw,\n\u001b[1;32m    265\u001b[0m                                          \u001b[0mbuffered\u001b[0m\u001b[0;34m=\u001b[0m\u001b[0mself\u001b[0m\u001b[0;34m.\u001b[0m\u001b[0m_buffered\u001b[0m\u001b[0;34m,\u001b[0m\u001b[0;34m\u001b[0m\u001b[0;34m\u001b[0m\u001b[0m\n\u001b[0;32m--> 266\u001b[0;31m                                          raw_as_string=self._raw_as_string)\n\u001b[0m\u001b[1;32m    267\u001b[0m         \u001b[0;32mexcept\u001b[0m \u001b[0mMySQLInterfaceError\u001b[0m \u001b[0;32mas\u001b[0m \u001b[0mexc\u001b[0m\u001b[0;34m:\u001b[0m\u001b[0;34m\u001b[0m\u001b[0;34m\u001b[0m\u001b[0m\n\u001b[1;32m    268\u001b[0m             raise errors.get_mysql_exception(msg=exc.msg, errno=exc.errno,\n",
      "\u001b[0;32m~/anaconda3/lib/python3.7/site-packages/mysql/connector/connection_cext.py\u001b[0m in \u001b[0;36mcmd_query\u001b[0;34m(self, query, raw, buffered, raw_as_string)\u001b[0m\n\u001b[1;32m    473\u001b[0m         \u001b[0;32mexcept\u001b[0m \u001b[0mMySQLInterfaceError\u001b[0m \u001b[0;32mas\u001b[0m \u001b[0mexc\u001b[0m\u001b[0;34m:\u001b[0m\u001b[0;34m\u001b[0m\u001b[0;34m\u001b[0m\u001b[0m\n\u001b[1;32m    474\u001b[0m             raise errors.get_mysql_exception(exc.errno, msg=exc.msg,\n\u001b[0;32m--> 475\u001b[0;31m                                              sqlstate=exc.sqlstate)\n\u001b[0m\u001b[1;32m    476\u001b[0m         \u001b[0;32mexcept\u001b[0m \u001b[0mAttributeError\u001b[0m\u001b[0;34m:\u001b[0m\u001b[0;34m\u001b[0m\u001b[0;34m\u001b[0m\u001b[0m\n\u001b[1;32m    477\u001b[0m             \u001b[0;32mif\u001b[0m \u001b[0mself\u001b[0m\u001b[0;34m.\u001b[0m\u001b[0m_unix_socket\u001b[0m\u001b[0;34m:\u001b[0m\u001b[0;34m\u001b[0m\u001b[0;34m\u001b[0m\u001b[0m\n",
      "\u001b[0;31mProgrammingError\u001b[0m: 1050 (42S01): Table 'stackoverflow' already exists"
     ]
    }
   ],
   "source": [
    "#The below cell throws an error as the table was already created. Rerunning again gives this error\n",
    "cur.execute(\"CREATE TABLE stackoverflow (Question VARCHAR(500), Answer VARCHAR(5000))\")"
   ]
  },
  {
   "cell_type": "markdown",
   "metadata": {
    "id": "zlx_-ceFLY-P"
   },
   "source": [
    "### Reading the CSV using the Amazon S3 links provided"
   ]
  },
  {
   "cell_type": "markdown",
   "metadata": {
    "id": "keSR2BZiMJNO"
   },
   "source": [
    "##### The encoding plays an important role while reading the CSV file. Reading the csv with a normal or default utf-8 coding gives an error."
   ]
  },
  {
   "cell_type": "code",
   "execution_count": 5,
   "metadata": {
    "id": "Sc9Xvl27EY3O"
   },
   "outputs": [],
   "source": [
    "questions_data = pd.read_csv(\"https://stack-overflow-casestudy-datasets.s3.amazonaws.com/Questions.csv\",encoding = \"latin\")"
   ]
  },
  {
   "cell_type": "code",
   "execution_count": 6,
   "metadata": {
    "id": "FPIhX_XvEjV_"
   },
   "outputs": [],
   "source": [
    "answers_data = pd.read_csv(\"https://stack-overflow-casestudy-datasets.s3.amazonaws.com/Answers.csv\",encoding = \"latin\")"
   ]
  },
  {
   "cell_type": "code",
   "execution_count": 7,
   "metadata": {
    "id": "WNEH2qI_Ev8O"
   },
   "outputs": [],
   "source": [
    "tags_data = pd.read_csv(\"https://stack-overflow-casestudy-datasets.s3.amazonaws.com/Tags.csv\",encoding = \"latin\")"
   ]
  },
  {
   "cell_type": "code",
   "execution_count": 8,
   "metadata": {
    "id": "_iGWH-gxFL_R"
   },
   "outputs": [],
   "source": [
    "users_data = pd.read_csv(\"https://stack-overflow-casestudy-datasets.s3.amazonaws.com/Users.csv\",encoding = \"latin\")"
   ]
  },
  {
   "cell_type": "markdown",
   "metadata": {
    "id": "r0n6C3VeNTbb"
   },
   "source": [
    "### Getting a gist of each of the datasets"
   ]
  },
  {
   "cell_type": "markdown",
   "metadata": {
    "id": "fkhNz-dNNgW2"
   },
   "source": [
    "#### Questions Dataset"
   ]
  },
  {
   "cell_type": "code",
   "execution_count": 9,
   "metadata": {
    "colab": {
     "base_uri": "https://localhost:8080/",
     "height": 206
    },
    "id": "za1MFIuwCNDH",
    "outputId": "d1a33ea6-ee95-4823-a7f8-a5aaf3fece3c"
   },
   "outputs": [
    {
     "data": {
      "text/html": [
       "<div>\n",
       "<style scoped>\n",
       "    .dataframe tbody tr th:only-of-type {\n",
       "        vertical-align: middle;\n",
       "    }\n",
       "\n",
       "    .dataframe tbody tr th {\n",
       "        vertical-align: top;\n",
       "    }\n",
       "\n",
       "    .dataframe thead th {\n",
       "        text-align: right;\n",
       "    }\n",
       "</style>\n",
       "<table border=\"1\" class=\"dataframe\">\n",
       "  <thead>\n",
       "    <tr style=\"text-align: right;\">\n",
       "      <th></th>\n",
       "      <th>Id</th>\n",
       "      <th>OwnerUserId</th>\n",
       "      <th>CreationDate</th>\n",
       "      <th>ClosedDate</th>\n",
       "      <th>Score</th>\n",
       "      <th>Title</th>\n",
       "      <th>Body</th>\n",
       "    </tr>\n",
       "  </thead>\n",
       "  <tbody>\n",
       "    <tr>\n",
       "      <th>0</th>\n",
       "      <td>80</td>\n",
       "      <td>26.0</td>\n",
       "      <td>2008-08-01T13:57:07Z</td>\n",
       "      <td>NaN</td>\n",
       "      <td>26</td>\n",
       "      <td>SQLStatement.execute() - multiple queries in o...</td>\n",
       "      <td>&lt;p&gt;I've written a database generation script i...</td>\n",
       "    </tr>\n",
       "    <tr>\n",
       "      <th>1</th>\n",
       "      <td>90</td>\n",
       "      <td>58.0</td>\n",
       "      <td>2008-08-01T14:41:24Z</td>\n",
       "      <td>2012-12-26T03:45:49Z</td>\n",
       "      <td>144</td>\n",
       "      <td>Good branching and merging tutorials for Torto...</td>\n",
       "      <td>&lt;p&gt;Are there any really good tutorials explain...</td>\n",
       "    </tr>\n",
       "    <tr>\n",
       "      <th>2</th>\n",
       "      <td>120</td>\n",
       "      <td>83.0</td>\n",
       "      <td>2008-08-01T15:50:08Z</td>\n",
       "      <td>NaN</td>\n",
       "      <td>21</td>\n",
       "      <td>ASP.NET Site Maps</td>\n",
       "      <td>&lt;p&gt;Has anyone got experience creating &lt;strong&gt;...</td>\n",
       "    </tr>\n",
       "    <tr>\n",
       "      <th>3</th>\n",
       "      <td>180</td>\n",
       "      <td>2089740.0</td>\n",
       "      <td>2008-08-01T18:42:19Z</td>\n",
       "      <td>NaN</td>\n",
       "      <td>53</td>\n",
       "      <td>Function for creating color wheels</td>\n",
       "      <td>&lt;p&gt;This is something I've pseudo-solved many t...</td>\n",
       "    </tr>\n",
       "    <tr>\n",
       "      <th>4</th>\n",
       "      <td>260</td>\n",
       "      <td>91.0</td>\n",
       "      <td>2008-08-01T23:22:08Z</td>\n",
       "      <td>NaN</td>\n",
       "      <td>49</td>\n",
       "      <td>Adding scripting functionality to .NET applica...</td>\n",
       "      <td>&lt;p&gt;I have a little game written in C#. It uses...</td>\n",
       "    </tr>\n",
       "  </tbody>\n",
       "</table>\n",
       "</div>"
      ],
      "text/plain": [
       "    Id  OwnerUserId          CreationDate            ClosedDate  Score  \\\n",
       "0   80         26.0  2008-08-01T13:57:07Z                   NaN     26   \n",
       "1   90         58.0  2008-08-01T14:41:24Z  2012-12-26T03:45:49Z    144   \n",
       "2  120         83.0  2008-08-01T15:50:08Z                   NaN     21   \n",
       "3  180    2089740.0  2008-08-01T18:42:19Z                   NaN     53   \n",
       "4  260         91.0  2008-08-01T23:22:08Z                   NaN     49   \n",
       "\n",
       "                                               Title  \\\n",
       "0  SQLStatement.execute() - multiple queries in o...   \n",
       "1  Good branching and merging tutorials for Torto...   \n",
       "2                                  ASP.NET Site Maps   \n",
       "3                 Function for creating color wheels   \n",
       "4  Adding scripting functionality to .NET applica...   \n",
       "\n",
       "                                                Body  \n",
       "0  <p>I've written a database generation script i...  \n",
       "1  <p>Are there any really good tutorials explain...  \n",
       "2  <p>Has anyone got experience creating <strong>...  \n",
       "3  <p>This is something I've pseudo-solved many t...  \n",
       "4  <p>I have a little game written in C#. It uses...  "
      ]
     },
     "execution_count": 9,
     "metadata": {},
     "output_type": "execute_result"
    }
   ],
   "source": [
    "questions_data.head()"
   ]
  },
  {
   "cell_type": "code",
   "execution_count": 10,
   "metadata": {
    "colab": {
     "base_uri": "https://localhost:8080/"
    },
    "id": "1CmeG294DVhc",
    "outputId": "4eeb001c-6245-402b-c0be-9dd4a992d441"
   },
   "outputs": [
    {
     "name": "stdout",
     "output_type": "stream",
     "text": [
      "<class 'pandas.core.frame.DataFrame'>\n",
      "RangeIndex: 1264216 entries, 0 to 1264215\n",
      "Data columns (total 7 columns):\n",
      " #   Column        Non-Null Count    Dtype  \n",
      "---  ------        --------------    -----  \n",
      " 0   Id            1264216 non-null  int64  \n",
      " 1   OwnerUserId   1249762 non-null  float64\n",
      " 2   CreationDate  1264216 non-null  object \n",
      " 3   ClosedDate    55959 non-null    object \n",
      " 4   Score         1264216 non-null  int64  \n",
      " 5   Title         1264216 non-null  object \n",
      " 6   Body          1264216 non-null  object \n",
      "dtypes: float64(1), int64(2), object(4)\n",
      "memory usage: 67.5+ MB\n"
     ]
    }
   ],
   "source": [
    "questions_data.info()"
   ]
  },
  {
   "cell_type": "markdown",
   "metadata": {
    "id": "bUElG7ssNlEa"
   },
   "source": [
    "#### Answers Dataset"
   ]
  },
  {
   "cell_type": "code",
   "execution_count": 11,
   "metadata": {
    "colab": {
     "base_uri": "https://localhost:8080/",
     "height": 206
    },
    "id": "eEZvfqCLEYol",
    "outputId": "a397a67e-0e30-4e81-ca51-495311adbecd"
   },
   "outputs": [
    {
     "data": {
      "text/html": [
       "<div>\n",
       "<style scoped>\n",
       "    .dataframe tbody tr th:only-of-type {\n",
       "        vertical-align: middle;\n",
       "    }\n",
       "\n",
       "    .dataframe tbody tr th {\n",
       "        vertical-align: top;\n",
       "    }\n",
       "\n",
       "    .dataframe thead th {\n",
       "        text-align: right;\n",
       "    }\n",
       "</style>\n",
       "<table border=\"1\" class=\"dataframe\">\n",
       "  <thead>\n",
       "    <tr style=\"text-align: right;\">\n",
       "      <th></th>\n",
       "      <th>Id</th>\n",
       "      <th>OwnerUserId</th>\n",
       "      <th>CreationDate</th>\n",
       "      <th>ParentId</th>\n",
       "      <th>Score</th>\n",
       "      <th>Body</th>\n",
       "    </tr>\n",
       "  </thead>\n",
       "  <tbody>\n",
       "    <tr>\n",
       "      <th>0</th>\n",
       "      <td>92</td>\n",
       "      <td>61.0</td>\n",
       "      <td>2008-08-01T14:45:37Z</td>\n",
       "      <td>90</td>\n",
       "      <td>13</td>\n",
       "      <td>&lt;p&gt;&lt;a href=\"http://svnbook.red-bean.com/\"&gt;Vers...</td>\n",
       "    </tr>\n",
       "    <tr>\n",
       "      <th>1</th>\n",
       "      <td>124</td>\n",
       "      <td>26.0</td>\n",
       "      <td>2008-08-01T16:09:47Z</td>\n",
       "      <td>80</td>\n",
       "      <td>12</td>\n",
       "      <td>&lt;p&gt;I wound up using this. It is a kind of a ha...</td>\n",
       "    </tr>\n",
       "    <tr>\n",
       "      <th>2</th>\n",
       "      <td>199</td>\n",
       "      <td>50.0</td>\n",
       "      <td>2008-08-01T19:36:46Z</td>\n",
       "      <td>180</td>\n",
       "      <td>1</td>\n",
       "      <td>&lt;p&gt;I've read somewhere the human eye can't dis...</td>\n",
       "    </tr>\n",
       "    <tr>\n",
       "      <th>3</th>\n",
       "      <td>269</td>\n",
       "      <td>91.0</td>\n",
       "      <td>2008-08-01T23:49:57Z</td>\n",
       "      <td>260</td>\n",
       "      <td>4</td>\n",
       "      <td>&lt;p&gt;Yes, I thought about that, but I soon figur...</td>\n",
       "    </tr>\n",
       "    <tr>\n",
       "      <th>4</th>\n",
       "      <td>307</td>\n",
       "      <td>49.0</td>\n",
       "      <td>2008-08-02T01:49:46Z</td>\n",
       "      <td>260</td>\n",
       "      <td>28</td>\n",
       "      <td>&lt;p&gt;&lt;a href=\"http://www.codeproject.com/Article...</td>\n",
       "    </tr>\n",
       "  </tbody>\n",
       "</table>\n",
       "</div>"
      ],
      "text/plain": [
       "    Id  OwnerUserId          CreationDate  ParentId  Score  \\\n",
       "0   92         61.0  2008-08-01T14:45:37Z        90     13   \n",
       "1  124         26.0  2008-08-01T16:09:47Z        80     12   \n",
       "2  199         50.0  2008-08-01T19:36:46Z       180      1   \n",
       "3  269         91.0  2008-08-01T23:49:57Z       260      4   \n",
       "4  307         49.0  2008-08-02T01:49:46Z       260     28   \n",
       "\n",
       "                                                Body  \n",
       "0  <p><a href=\"http://svnbook.red-bean.com/\">Vers...  \n",
       "1  <p>I wound up using this. It is a kind of a ha...  \n",
       "2  <p>I've read somewhere the human eye can't dis...  \n",
       "3  <p>Yes, I thought about that, but I soon figur...  \n",
       "4  <p><a href=\"http://www.codeproject.com/Article...  "
      ]
     },
     "execution_count": 11,
     "metadata": {},
     "output_type": "execute_result"
    }
   ],
   "source": [
    "answers_data.head()"
   ]
  },
  {
   "cell_type": "code",
   "execution_count": 12,
   "metadata": {
    "colab": {
     "base_uri": "https://localhost:8080/"
    },
    "id": "qyVveQw9EcTS",
    "outputId": "6d9b7f7f-346e-4553-a6c2-9386ff8de1e4"
   },
   "outputs": [
    {
     "name": "stdout",
     "output_type": "stream",
     "text": [
      "<class 'pandas.core.frame.DataFrame'>\n",
      "RangeIndex: 2014516 entries, 0 to 2014515\n",
      "Data columns (total 6 columns):\n",
      " #   Column        Dtype  \n",
      "---  ------        -----  \n",
      " 0   Id            int64  \n",
      " 1   OwnerUserId   float64\n",
      " 2   CreationDate  object \n",
      " 3   ParentId      int64  \n",
      " 4   Score         int64  \n",
      " 5   Body          object \n",
      "dtypes: float64(1), int64(3), object(2)\n",
      "memory usage: 92.2+ MB\n"
     ]
    }
   ],
   "source": [
    "answers_data.info()"
   ]
  },
  {
   "cell_type": "markdown",
   "metadata": {
    "id": "-vRWc7RNNpjY"
   },
   "source": [
    "#### Tags Dataset"
   ]
  },
  {
   "cell_type": "code",
   "execution_count": 13,
   "metadata": {
    "colab": {
     "base_uri": "https://localhost:8080/",
     "height": 206
    },
    "id": "8ZFHJJOlExrA",
    "outputId": "f1a3c259-a331-4ce4-ed9e-0712559ec1e0"
   },
   "outputs": [
    {
     "data": {
      "text/html": [
       "<div>\n",
       "<style scoped>\n",
       "    .dataframe tbody tr th:only-of-type {\n",
       "        vertical-align: middle;\n",
       "    }\n",
       "\n",
       "    .dataframe tbody tr th {\n",
       "        vertical-align: top;\n",
       "    }\n",
       "\n",
       "    .dataframe thead th {\n",
       "        text-align: right;\n",
       "    }\n",
       "</style>\n",
       "<table border=\"1\" class=\"dataframe\">\n",
       "  <thead>\n",
       "    <tr style=\"text-align: right;\">\n",
       "      <th></th>\n",
       "      <th>Id</th>\n",
       "      <th>Tag</th>\n",
       "    </tr>\n",
       "  </thead>\n",
       "  <tbody>\n",
       "    <tr>\n",
       "      <th>0</th>\n",
       "      <td>80</td>\n",
       "      <td>flex</td>\n",
       "    </tr>\n",
       "    <tr>\n",
       "      <th>1</th>\n",
       "      <td>80</td>\n",
       "      <td>actionscript-3</td>\n",
       "    </tr>\n",
       "    <tr>\n",
       "      <th>2</th>\n",
       "      <td>80</td>\n",
       "      <td>air</td>\n",
       "    </tr>\n",
       "    <tr>\n",
       "      <th>3</th>\n",
       "      <td>90</td>\n",
       "      <td>svn</td>\n",
       "    </tr>\n",
       "    <tr>\n",
       "      <th>4</th>\n",
       "      <td>90</td>\n",
       "      <td>tortoisesvn</td>\n",
       "    </tr>\n",
       "  </tbody>\n",
       "</table>\n",
       "</div>"
      ],
      "text/plain": [
       "   Id             Tag\n",
       "0  80            flex\n",
       "1  80  actionscript-3\n",
       "2  80             air\n",
       "3  90             svn\n",
       "4  90     tortoisesvn"
      ]
     },
     "execution_count": 13,
     "metadata": {},
     "output_type": "execute_result"
    }
   ],
   "source": [
    "tags_data.head()"
   ]
  },
  {
   "cell_type": "code",
   "execution_count": 14,
   "metadata": {
    "colab": {
     "base_uri": "https://localhost:8080/"
    },
    "id": "4x67mUhAE1Dz",
    "outputId": "bca9d568-6d39-4d79-a12e-017690236213"
   },
   "outputs": [
    {
     "name": "stdout",
     "output_type": "stream",
     "text": [
      "<class 'pandas.core.frame.DataFrame'>\n",
      "RangeIndex: 3750994 entries, 0 to 3750993\n",
      "Data columns (total 2 columns):\n",
      " #   Column  Dtype \n",
      "---  ------  ----- \n",
      " 0   Id      int64 \n",
      " 1   Tag     object\n",
      "dtypes: int64(1), object(1)\n",
      "memory usage: 57.2+ MB\n"
     ]
    }
   ],
   "source": [
    "tags_data.info()"
   ]
  },
  {
   "cell_type": "markdown",
   "metadata": {
    "id": "0KwxAft0Nuh0"
   },
   "source": [
    "#### Users Dataset"
   ]
  },
  {
   "cell_type": "code",
   "execution_count": 15,
   "metadata": {
    "colab": {
     "base_uri": "https://localhost:8080/",
     "height": 206
    },
    "id": "iH3yySLbE6qF",
    "outputId": "d0657de6-4f2d-4bc0-addf-8ab67b806f26"
   },
   "outputs": [
    {
     "data": {
      "text/html": [
       "<div>\n",
       "<style scoped>\n",
       "    .dataframe tbody tr th:only-of-type {\n",
       "        vertical-align: middle;\n",
       "    }\n",
       "\n",
       "    .dataframe tbody tr th {\n",
       "        vertical-align: top;\n",
       "    }\n",
       "\n",
       "    .dataframe thead th {\n",
       "        text-align: right;\n",
       "    }\n",
       "</style>\n",
       "<table border=\"1\" class=\"dataframe\">\n",
       "  <thead>\n",
       "    <tr style=\"text-align: right;\">\n",
       "      <th></th>\n",
       "      <th>Unnamed: 0</th>\n",
       "      <th>id</th>\n",
       "      <th>display_name</th>\n",
       "      <th>creation_date</th>\n",
       "      <th>last_access_date</th>\n",
       "      <th>reputation</th>\n",
       "      <th>up_votes</th>\n",
       "      <th>down_votes</th>\n",
       "      <th>views</th>\n",
       "    </tr>\n",
       "  </thead>\n",
       "  <tbody>\n",
       "    <tr>\n",
       "      <th>0</th>\n",
       "      <td>0</td>\n",
       "      <td>26</td>\n",
       "      <td>Shawn</td>\n",
       "      <td>2008-08-01 12:18:14.52 UTC</td>\n",
       "      <td>2018-04-11 04:40:35.66 UTC</td>\n",
       "      <td>11820</td>\n",
       "      <td>565</td>\n",
       "      <td>67</td>\n",
       "      <td>3547</td>\n",
       "    </tr>\n",
       "    <tr>\n",
       "      <th>1</th>\n",
       "      <td>1</td>\n",
       "      <td>26</td>\n",
       "      <td>Shawn</td>\n",
       "      <td>2008-08-01 12:18:14.52 UTC</td>\n",
       "      <td>2018-04-11 04:40:35.66 UTC</td>\n",
       "      <td>11820</td>\n",
       "      <td>565</td>\n",
       "      <td>67</td>\n",
       "      <td>3547</td>\n",
       "    </tr>\n",
       "    <tr>\n",
       "      <th>2</th>\n",
       "      <td>2</td>\n",
       "      <td>26</td>\n",
       "      <td>Shawn</td>\n",
       "      <td>2008-08-01 12:18:14.52 UTC</td>\n",
       "      <td>2018-04-11 04:40:35.66 UTC</td>\n",
       "      <td>11820</td>\n",
       "      <td>565</td>\n",
       "      <td>67</td>\n",
       "      <td>3547</td>\n",
       "    </tr>\n",
       "    <tr>\n",
       "      <th>3</th>\n",
       "      <td>3</td>\n",
       "      <td>26</td>\n",
       "      <td>Shawn</td>\n",
       "      <td>2008-08-01 12:18:14.52 UTC</td>\n",
       "      <td>2018-04-11 04:40:35.66 UTC</td>\n",
       "      <td>11820</td>\n",
       "      <td>565</td>\n",
       "      <td>67</td>\n",
       "      <td>3547</td>\n",
       "    </tr>\n",
       "    <tr>\n",
       "      <th>4</th>\n",
       "      <td>4</td>\n",
       "      <td>26</td>\n",
       "      <td>Shawn</td>\n",
       "      <td>2008-08-01 12:18:14.52 UTC</td>\n",
       "      <td>2018-04-11 04:40:35.66 UTC</td>\n",
       "      <td>11820</td>\n",
       "      <td>565</td>\n",
       "      <td>67</td>\n",
       "      <td>3547</td>\n",
       "    </tr>\n",
       "  </tbody>\n",
       "</table>\n",
       "</div>"
      ],
      "text/plain": [
       "   Unnamed: 0  id display_name               creation_date  \\\n",
       "0           0  26        Shawn  2008-08-01 12:18:14.52 UTC   \n",
       "1           1  26        Shawn  2008-08-01 12:18:14.52 UTC   \n",
       "2           2  26        Shawn  2008-08-01 12:18:14.52 UTC   \n",
       "3           3  26        Shawn  2008-08-01 12:18:14.52 UTC   \n",
       "4           4  26        Shawn  2008-08-01 12:18:14.52 UTC   \n",
       "\n",
       "             last_access_date  reputation  up_votes  down_votes  views  \n",
       "0  2018-04-11 04:40:35.66 UTC       11820       565          67   3547  \n",
       "1  2018-04-11 04:40:35.66 UTC       11820       565          67   3547  \n",
       "2  2018-04-11 04:40:35.66 UTC       11820       565          67   3547  \n",
       "3  2018-04-11 04:40:35.66 UTC       11820       565          67   3547  \n",
       "4  2018-04-11 04:40:35.66 UTC       11820       565          67   3547  "
      ]
     },
     "execution_count": 15,
     "metadata": {},
     "output_type": "execute_result"
    }
   ],
   "source": [
    "users_data.head()"
   ]
  },
  {
   "cell_type": "code",
   "execution_count": 16,
   "metadata": {
    "colab": {
     "base_uri": "https://localhost:8080/"
    },
    "id": "LR6XN6LOE90j",
    "outputId": "b06a19a6-fe0f-4179-d818-4c82c9f77be5"
   },
   "outputs": [
    {
     "name": "stdout",
     "output_type": "stream",
     "text": [
      "<class 'pandas.core.frame.DataFrame'>\n",
      "RangeIndex: 1990480 entries, 0 to 1990479\n",
      "Data columns (total 9 columns):\n",
      " #   Column            Dtype \n",
      "---  ------            ----- \n",
      " 0   Unnamed: 0        int64 \n",
      " 1   id                int64 \n",
      " 2   display_name      object\n",
      " 3   creation_date     object\n",
      " 4   last_access_date  object\n",
      " 5   reputation        int64 \n",
      " 6   up_votes          int64 \n",
      " 7   down_votes        int64 \n",
      " 8   views             int64 \n",
      "dtypes: int64(6), object(3)\n",
      "memory usage: 136.7+ MB\n"
     ]
    }
   ],
   "source": [
    "users_data.info()"
   ]
  },
  {
   "cell_type": "markdown",
   "metadata": {
    "id": "HcqwCJd5FnFL"
   },
   "source": [
    "### Data Cleaning"
   ]
  },
  {
   "cell_type": "markdown",
   "metadata": {
    "id": "lj6klK_oFqZw"
   },
   "source": [
    "After having an idea about the datasets, lets start with the data cleaning of the datasets. We will go for each dataset one by one"
   ]
  },
  {
   "cell_type": "markdown",
   "metadata": {
    "id": "j9ErMU7CGMT9"
   },
   "source": [
    "#### Questions Dataset Cleaning"
   ]
  },
  {
   "cell_type": "code",
   "execution_count": 17,
   "metadata": {
    "colab": {
     "base_uri": "https://localhost:8080/"
    },
    "id": "UHRP4Mm3GiJ9",
    "outputId": "fd6a7999-7efc-420c-8c14-93a8d6f9d936"
   },
   "outputs": [
    {
     "name": "stdout",
     "output_type": "stream",
     "text": [
      "<class 'pandas.core.frame.DataFrame'>\n",
      "RangeIndex: 1264216 entries, 0 to 1264215\n",
      "Data columns (total 7 columns):\n",
      " #   Column        Non-Null Count    Dtype  \n",
      "---  ------        --------------    -----  \n",
      " 0   Id            1264216 non-null  int64  \n",
      " 1   OwnerUserId   1249762 non-null  float64\n",
      " 2   CreationDate  1264216 non-null  object \n",
      " 3   ClosedDate    55959 non-null    object \n",
      " 4   Score         1264216 non-null  int64  \n",
      " 5   Title         1264216 non-null  object \n",
      " 6   Body          1264216 non-null  object \n",
      "dtypes: float64(1), int64(2), object(4)\n",
      "memory usage: 67.5+ MB\n"
     ]
    }
   ],
   "source": [
    "questions_data.info()"
   ]
  },
  {
   "cell_type": "markdown",
   "metadata": {
    "id": "nvCCzuGtP1pM"
   },
   "source": [
    "Check for the missing values\n"
   ]
  },
  {
   "cell_type": "code",
   "execution_count": 18,
   "metadata": {
    "colab": {
     "base_uri": "https://localhost:8080/"
    },
    "id": "hTaiH8gYO89R",
    "outputId": "b92931bd-616e-4917-c997-7047a6385f93"
   },
   "outputs": [
    {
     "data": {
      "text/plain": [
       "Id                    0\n",
       "OwnerUserId       14454\n",
       "CreationDate          0\n",
       "ClosedDate      1208257\n",
       "Score                 0\n",
       "Title                 0\n",
       "Body                  0\n",
       "dtype: int64"
      ]
     },
     "execution_count": 18,
     "metadata": {},
     "output_type": "execute_result"
    }
   ],
   "source": [
    "questions_data.isnull().sum()"
   ]
  },
  {
   "cell_type": "markdown",
   "metadata": {
    "id": "N5DVdLOdP5Hr"
   },
   "source": [
    "Okay! so we have 2 columns with missing values. Lets see their percentage\n"
   ]
  },
  {
   "cell_type": "code",
   "execution_count": 19,
   "metadata": {
    "colab": {
     "base_uri": "https://localhost:8080/"
    },
    "id": "a0QEI-gYPRyl",
    "outputId": "1ae48570-59aa-4e11-829b-f164f50c817f"
   },
   "outputs": [
    {
     "data": {
      "text/plain": [
       "Id               0.000000\n",
       "OwnerUserId      1.143317\n",
       "CreationDate     0.000000\n",
       "ClosedDate      95.573620\n",
       "Score            0.000000\n",
       "Title            0.000000\n",
       "Body             0.000000\n",
       "dtype: float64"
      ]
     },
     "execution_count": 19,
     "metadata": {},
     "output_type": "execute_result"
    }
   ],
   "source": [
    "questions_data.isnull().sum()*100/len(questions_data)"
   ]
  },
  {
   "cell_type": "markdown",
   "metadata": {
    "id": "kz_ptDLHP86_"
   },
   "source": [
    "So we can see that 1.14% of missing values in OwnerUserID and 95.5736% of missing value in Closed Date.\n",
    "\n",
    "Therefore lets delete the rows with missing values from OwnerUserId Column.\n",
    "\n",
    "And ideally, as the percentage of missing values for ClosedDate column is too high, We should drop the table. (As it won't provide any relevant info to our analysis)\n",
    "\n",
    "So lets do it....."
   ]
  },
  {
   "cell_type": "code",
   "execution_count": 20,
   "metadata": {
    "colab": {
     "base_uri": "https://localhost:8080/"
    },
    "id": "w2gWcM9jQW3C",
    "outputId": "c5b05856-40a9-4968-afe3-90793d25a360"
   },
   "outputs": [
    {
     "data": {
      "text/plain": [
       "Id                    0\n",
       "OwnerUserId           0\n",
       "CreationDate          0\n",
       "ClosedDate      1194522\n",
       "Score                 0\n",
       "Title                 0\n",
       "Body                  0\n",
       "dtype: int64"
      ]
     },
     "execution_count": 20,
     "metadata": {},
     "output_type": "execute_result"
    }
   ],
   "source": [
    "questions_data = questions_data[-(questions_data.OwnerUserId.isnull())]\n",
    "questions_data.isnull().sum()"
   ]
  },
  {
   "cell_type": "code",
   "execution_count": 21,
   "metadata": {
    "id": "4WGKp-qqQkJz"
   },
   "outputs": [],
   "source": [
    "questions_data = questions_data.drop('ClosedDate',axis = 1)\n"
   ]
  },
  {
   "cell_type": "code",
   "execution_count": 22,
   "metadata": {
    "colab": {
     "base_uri": "https://localhost:8080/"
    },
    "id": "u2uTcZmVRDuV",
    "outputId": "ebda6b9d-e52d-4d07-87d9-1ce97db223ce"
   },
   "outputs": [
    {
     "data": {
      "text/plain": [
       "Id              0\n",
       "OwnerUserId     0\n",
       "CreationDate    0\n",
       "Score           0\n",
       "Title           0\n",
       "Body            0\n",
       "dtype: int64"
      ]
     },
     "execution_count": 22,
     "metadata": {},
     "output_type": "execute_result"
    }
   ],
   "source": [
    "questions_data.isnull().sum()"
   ]
  },
  {
   "cell_type": "markdown",
   "metadata": {
    "id": "akA7y726RREX"
   },
   "source": [
    "So now the missing values are handled in this dataset.\n",
    "\n",
    "Now lets check the datatype of each column. "
   ]
  },
  {
   "cell_type": "code",
   "execution_count": 23,
   "metadata": {
    "colab": {
     "base_uri": "https://localhost:8080/"
    },
    "id": "FNh0fTkiRfVN",
    "outputId": "c721e1e3-1495-4380-f8d6-90936b5f88d8"
   },
   "outputs": [
    {
     "name": "stdout",
     "output_type": "stream",
     "text": [
      "<class 'pandas.core.frame.DataFrame'>\n",
      "Int64Index: 1249762 entries, 0 to 1264215\n",
      "Data columns (total 6 columns):\n",
      " #   Column        Non-Null Count    Dtype  \n",
      "---  ------        --------------    -----  \n",
      " 0   Id            1249762 non-null  int64  \n",
      " 1   OwnerUserId   1249762 non-null  float64\n",
      " 2   CreationDate  1249762 non-null  object \n",
      " 3   Score         1249762 non-null  int64  \n",
      " 4   Title         1249762 non-null  object \n",
      " 5   Body          1249762 non-null  object \n",
      "dtypes: float64(1), int64(2), object(3)\n",
      "memory usage: 66.7+ MB\n"
     ]
    }
   ],
   "source": [
    "questions_data.info()"
   ]
  },
  {
   "cell_type": "markdown",
   "metadata": {
    "id": "40mIR4pMRlKM"
   },
   "source": [
    "The datatype of all the columns looks good. But on observing we see that CreationDate is of the type Object. Lets convert it to date format as it may help us in our analysis in future"
   ]
  },
  {
   "cell_type": "code",
   "execution_count": 24,
   "metadata": {
    "colab": {
     "base_uri": "https://localhost:8080/",
     "height": 206
    },
    "id": "TKr3H8W7R0pO",
    "outputId": "3dda6f52-11ce-4665-842c-c05f5c3046ef"
   },
   "outputs": [
    {
     "data": {
      "text/html": [
       "<div>\n",
       "<style scoped>\n",
       "    .dataframe tbody tr th:only-of-type {\n",
       "        vertical-align: middle;\n",
       "    }\n",
       "\n",
       "    .dataframe tbody tr th {\n",
       "        vertical-align: top;\n",
       "    }\n",
       "\n",
       "    .dataframe thead th {\n",
       "        text-align: right;\n",
       "    }\n",
       "</style>\n",
       "<table border=\"1\" class=\"dataframe\">\n",
       "  <thead>\n",
       "    <tr style=\"text-align: right;\">\n",
       "      <th></th>\n",
       "      <th>Id</th>\n",
       "      <th>OwnerUserId</th>\n",
       "      <th>CreationDate</th>\n",
       "      <th>Score</th>\n",
       "      <th>Title</th>\n",
       "      <th>Body</th>\n",
       "    </tr>\n",
       "  </thead>\n",
       "  <tbody>\n",
       "    <tr>\n",
       "      <th>0</th>\n",
       "      <td>80</td>\n",
       "      <td>26.0</td>\n",
       "      <td>2008-08-01 13:57:07+00:00</td>\n",
       "      <td>26</td>\n",
       "      <td>SQLStatement.execute() - multiple queries in o...</td>\n",
       "      <td>&lt;p&gt;I've written a database generation script i...</td>\n",
       "    </tr>\n",
       "    <tr>\n",
       "      <th>1</th>\n",
       "      <td>90</td>\n",
       "      <td>58.0</td>\n",
       "      <td>2008-08-01 14:41:24+00:00</td>\n",
       "      <td>144</td>\n",
       "      <td>Good branching and merging tutorials for Torto...</td>\n",
       "      <td>&lt;p&gt;Are there any really good tutorials explain...</td>\n",
       "    </tr>\n",
       "    <tr>\n",
       "      <th>2</th>\n",
       "      <td>120</td>\n",
       "      <td>83.0</td>\n",
       "      <td>2008-08-01 15:50:08+00:00</td>\n",
       "      <td>21</td>\n",
       "      <td>ASP.NET Site Maps</td>\n",
       "      <td>&lt;p&gt;Has anyone got experience creating &lt;strong&gt;...</td>\n",
       "    </tr>\n",
       "    <tr>\n",
       "      <th>3</th>\n",
       "      <td>180</td>\n",
       "      <td>2089740.0</td>\n",
       "      <td>2008-08-01 18:42:19+00:00</td>\n",
       "      <td>53</td>\n",
       "      <td>Function for creating color wheels</td>\n",
       "      <td>&lt;p&gt;This is something I've pseudo-solved many t...</td>\n",
       "    </tr>\n",
       "    <tr>\n",
       "      <th>4</th>\n",
       "      <td>260</td>\n",
       "      <td>91.0</td>\n",
       "      <td>2008-08-01 23:22:08+00:00</td>\n",
       "      <td>49</td>\n",
       "      <td>Adding scripting functionality to .NET applica...</td>\n",
       "      <td>&lt;p&gt;I have a little game written in C#. It uses...</td>\n",
       "    </tr>\n",
       "  </tbody>\n",
       "</table>\n",
       "</div>"
      ],
      "text/plain": [
       "    Id  OwnerUserId              CreationDate  Score  \\\n",
       "0   80         26.0 2008-08-01 13:57:07+00:00     26   \n",
       "1   90         58.0 2008-08-01 14:41:24+00:00    144   \n",
       "2  120         83.0 2008-08-01 15:50:08+00:00     21   \n",
       "3  180    2089740.0 2008-08-01 18:42:19+00:00     53   \n",
       "4  260         91.0 2008-08-01 23:22:08+00:00     49   \n",
       "\n",
       "                                               Title  \\\n",
       "0  SQLStatement.execute() - multiple queries in o...   \n",
       "1  Good branching and merging tutorials for Torto...   \n",
       "2                                  ASP.NET Site Maps   \n",
       "3                 Function for creating color wheels   \n",
       "4  Adding scripting functionality to .NET applica...   \n",
       "\n",
       "                                                Body  \n",
       "0  <p>I've written a database generation script i...  \n",
       "1  <p>Are there any really good tutorials explain...  \n",
       "2  <p>Has anyone got experience creating <strong>...  \n",
       "3  <p>This is something I've pseudo-solved many t...  \n",
       "4  <p>I have a little game written in C#. It uses...  "
      ]
     },
     "execution_count": 24,
     "metadata": {},
     "output_type": "execute_result"
    }
   ],
   "source": [
    "questions_data['CreationDate'] = pd.to_datetime(questions_data['CreationDate'])\n",
    "questions_data.head()"
   ]
  },
  {
   "cell_type": "code",
   "execution_count": 25,
   "metadata": {
    "colab": {
     "base_uri": "https://localhost:8080/"
    },
    "id": "4TV-VgjwWJFw",
    "outputId": "49935fd0-5e81-4bc0-a4a7-0dfeede7f072"
   },
   "outputs": [
    {
     "name": "stdout",
     "output_type": "stream",
     "text": [
      "<class 'pandas.core.frame.DataFrame'>\n",
      "Int64Index: 1249762 entries, 0 to 1264215\n",
      "Data columns (total 6 columns):\n",
      " #   Column        Non-Null Count    Dtype              \n",
      "---  ------        --------------    -----              \n",
      " 0   Id            1249762 non-null  int64              \n",
      " 1   OwnerUserId   1249762 non-null  float64            \n",
      " 2   CreationDate  1249762 non-null  datetime64[ns, UTC]\n",
      " 3   Score         1249762 non-null  int64              \n",
      " 4   Title         1249762 non-null  object             \n",
      " 5   Body          1249762 non-null  object             \n",
      "dtypes: datetime64[ns, UTC](1), float64(1), int64(2), object(2)\n",
      "memory usage: 66.7+ MB\n"
     ]
    }
   ],
   "source": [
    "questions_data.info()"
   ]
  },
  {
   "cell_type": "markdown",
   "metadata": {
    "id": "-XEb0BE7Si51"
   },
   "source": [
    "Okay, so the data now looks good....\n",
    "\n",
    "Lets check the max, min, value_counts etc, as their might be some encoding performed for missing values. For eg. -1 may be put to indicate a missing value.\n",
    "\n",
    "Note: Analysis of dataset will be done in next section, where outliers will also be identified (if any)"
   ]
  },
  {
   "cell_type": "code",
   "execution_count": 26,
   "metadata": {
    "colab": {
     "base_uri": "https://localhost:8080/",
     "height": 300
    },
    "id": "BTjiSxc0S_7M",
    "outputId": "1bea57b1-2cc0-4e78-f526-f139c7964e58"
   },
   "outputs": [
    {
     "data": {
      "text/html": [
       "<div>\n",
       "<style scoped>\n",
       "    .dataframe tbody tr th:only-of-type {\n",
       "        vertical-align: middle;\n",
       "    }\n",
       "\n",
       "    .dataframe tbody tr th {\n",
       "        vertical-align: top;\n",
       "    }\n",
       "\n",
       "    .dataframe thead th {\n",
       "        text-align: right;\n",
       "    }\n",
       "</style>\n",
       "<table border=\"1\" class=\"dataframe\">\n",
       "  <thead>\n",
       "    <tr style=\"text-align: right;\">\n",
       "      <th></th>\n",
       "      <th>Id</th>\n",
       "      <th>OwnerUserId</th>\n",
       "      <th>Score</th>\n",
       "    </tr>\n",
       "  </thead>\n",
       "  <tbody>\n",
       "    <tr>\n",
       "      <th>count</th>\n",
       "      <td>1.249762e+06</td>\n",
       "      <td>1.249762e+06</td>\n",
       "      <td>1.249762e+06</td>\n",
       "    </tr>\n",
       "    <tr>\n",
       "      <th>mean</th>\n",
       "      <td>2.140840e+07</td>\n",
       "      <td>2.155177e+06</td>\n",
       "      <td>1.770194e+00</td>\n",
       "    </tr>\n",
       "    <tr>\n",
       "      <th>std</th>\n",
       "      <td>1.148375e+07</td>\n",
       "      <td>1.801265e+06</td>\n",
       "      <td>1.365188e+01</td>\n",
       "    </tr>\n",
       "    <tr>\n",
       "      <th>min</th>\n",
       "      <td>8.000000e+01</td>\n",
       "      <td>1.000000e+00</td>\n",
       "      <td>-7.300000e+01</td>\n",
       "    </tr>\n",
       "    <tr>\n",
       "      <th>25%</th>\n",
       "      <td>1.152718e+07</td>\n",
       "      <td>6.589110e+05</td>\n",
       "      <td>0.000000e+00</td>\n",
       "    </tr>\n",
       "    <tr>\n",
       "      <th>50%</th>\n",
       "      <td>2.182016e+07</td>\n",
       "      <td>1.611830e+06</td>\n",
       "      <td>0.000000e+00</td>\n",
       "    </tr>\n",
       "    <tr>\n",
       "      <th>75%</th>\n",
       "      <td>3.160539e+07</td>\n",
       "      <td>3.353792e+06</td>\n",
       "      <td>1.000000e+00</td>\n",
       "    </tr>\n",
       "    <tr>\n",
       "      <th>max</th>\n",
       "      <td>4.014338e+07</td>\n",
       "      <td>7.046594e+06</td>\n",
       "      <td>5.190000e+03</td>\n",
       "    </tr>\n",
       "  </tbody>\n",
       "</table>\n",
       "</div>"
      ],
      "text/plain": [
       "                 Id   OwnerUserId         Score\n",
       "count  1.249762e+06  1.249762e+06  1.249762e+06\n",
       "mean   2.140840e+07  2.155177e+06  1.770194e+00\n",
       "std    1.148375e+07  1.801265e+06  1.365188e+01\n",
       "min    8.000000e+01  1.000000e+00 -7.300000e+01\n",
       "25%    1.152718e+07  6.589110e+05  0.000000e+00\n",
       "50%    2.182016e+07  1.611830e+06  0.000000e+00\n",
       "75%    3.160539e+07  3.353792e+06  1.000000e+00\n",
       "max    4.014338e+07  7.046594e+06  5.190000e+03"
      ]
     },
     "execution_count": 26,
     "metadata": {},
     "output_type": "execute_result"
    }
   ],
   "source": [
    "# For Columns with Int or float data type\n",
    "questions_data.describe()"
   ]
  },
  {
   "cell_type": "code",
   "execution_count": 27,
   "metadata": {
    "colab": {
     "base_uri": "https://localhost:8080/"
    },
    "id": "wdOxItHJg3fq",
    "outputId": "db0557a1-232e-48e3-abeb-89939209ff1c"
   },
   "outputs": [
    {
     "name": "stdout",
     "output_type": "stream",
     "text": [
      "<class 'pandas.core.frame.DataFrame'>\n",
      "Int64Index: 1249762 entries, 0 to 1264215\n",
      "Data columns (total 6 columns):\n",
      " #   Column        Non-Null Count    Dtype              \n",
      "---  ------        --------------    -----              \n",
      " 0   Id            1249762 non-null  int64              \n",
      " 1   OwnerUserId   1249762 non-null  float64            \n",
      " 2   CreationDate  1249762 non-null  datetime64[ns, UTC]\n",
      " 3   Score         1249762 non-null  int64              \n",
      " 4   Title         1249762 non-null  object             \n",
      " 5   Body          1249762 non-null  object             \n",
      "dtypes: datetime64[ns, UTC](1), float64(1), int64(2), object(2)\n",
      "memory usage: 66.7+ MB\n"
     ]
    }
   ],
   "source": [
    "questions_data.info()"
   ]
  },
  {
   "cell_type": "markdown",
   "metadata": {
    "id": "cwkXq9cHgfbT"
   },
   "source": [
    "Above columns looks good. Seems no encoding is used for missing values and there are no more missing values in these column\n",
    "\n",
    "Also for the remaining data, they are free form text. Hence if there would be any missing values, then it would have shown in '.isnull().sum()' part of code.\n",
    "\n",
    "So now we are sure that there are no more missing values in this dataset and the types of columns are also handled properly."
   ]
  },
  {
   "cell_type": "markdown",
   "metadata": {
    "id": "2m6Hy28bgqNk"
   },
   "source": [
    "Lets check for duplicate rows"
   ]
  },
  {
   "cell_type": "code",
   "execution_count": 28,
   "metadata": {
    "colab": {
     "base_uri": "https://localhost:8080/"
    },
    "id": "tJ0bNd9Vgslc",
    "outputId": "017455af-1be6-4e8a-9582-a7e971a296f9"
   },
   "outputs": [
    {
     "data": {
      "text/plain": [
       "0"
      ]
     },
     "execution_count": 28,
     "metadata": {},
     "output_type": "execute_result"
    }
   ],
   "source": [
    "questions_data.duplicated().sum()"
   ]
  },
  {
   "cell_type": "markdown",
   "metadata": {
    "id": "Qif26iHNTxRh"
   },
   "source": [
    "No Duplicate rows found\n",
    "\n",
    "Lets move on to next dataset\n"
   ]
  },
  {
   "cell_type": "markdown",
   "metadata": {
    "id": "Ztm_wAKWURtG"
   },
   "source": [
    "#### Answers Dataset Cleaning"
   ]
  },
  {
   "cell_type": "code",
   "execution_count": 29,
   "metadata": {
    "colab": {
     "base_uri": "https://localhost:8080/"
    },
    "id": "1_Q1ibFMUY9c",
    "outputId": "6b851531-3e64-4603-fafe-32291e1d9db9"
   },
   "outputs": [
    {
     "name": "stdout",
     "output_type": "stream",
     "text": [
      "<class 'pandas.core.frame.DataFrame'>\n",
      "RangeIndex: 2014516 entries, 0 to 2014515\n",
      "Data columns (total 6 columns):\n",
      " #   Column        Dtype  \n",
      "---  ------        -----  \n",
      " 0   Id            int64  \n",
      " 1   OwnerUserId   float64\n",
      " 2   CreationDate  object \n",
      " 3   ParentId      int64  \n",
      " 4   Score         int64  \n",
      " 5   Body          object \n",
      "dtypes: float64(1), int64(3), object(2)\n",
      "memory usage: 92.2+ MB\n"
     ]
    }
   ],
   "source": [
    "answers_data.info()"
   ]
  },
  {
   "cell_type": "markdown",
   "metadata": {
    "id": "L7PhNptOUlOZ"
   },
   "source": [
    "Lets check for the missing values"
   ]
  },
  {
   "cell_type": "code",
   "execution_count": 30,
   "metadata": {
    "colab": {
     "base_uri": "https://localhost:8080/"
    },
    "id": "f2wnyA9NUoIt",
    "outputId": "87f26842-0ab9-4ae2-eccb-d73100558ebc"
   },
   "outputs": [
    {
     "data": {
      "text/plain": [
       "Id                  0\n",
       "OwnerUserId     13200\n",
       "CreationDate        0\n",
       "ParentId            0\n",
       "Score               0\n",
       "Body                0\n",
       "dtype: int64"
      ]
     },
     "execution_count": 30,
     "metadata": {},
     "output_type": "execute_result"
    }
   ],
   "source": [
    "answers_data.isnull().sum()"
   ]
  },
  {
   "cell_type": "markdown",
   "metadata": {
    "id": "KKRisWtgUtke"
   },
   "source": [
    "So here also we have missing values in OwnerUserID. Lets check its percentage first"
   ]
  },
  {
   "cell_type": "code",
   "execution_count": 31,
   "metadata": {
    "colab": {
     "base_uri": "https://localhost:8080/"
    },
    "id": "DVu5OUcXUz8P",
    "outputId": "bda905ba-dd07-42d4-fd1b-5dde4a198aa8"
   },
   "outputs": [
    {
     "data": {
      "text/plain": [
       "Id              0.000000\n",
       "OwnerUserId     0.655244\n",
       "CreationDate    0.000000\n",
       "ParentId        0.000000\n",
       "Score           0.000000\n",
       "Body            0.000000\n",
       "dtype: float64"
      ]
     },
     "execution_count": 31,
     "metadata": {},
     "output_type": "execute_result"
    }
   ],
   "source": [
    "answers_data.isnull().sum()*100/len(answers_data)"
   ]
  },
  {
   "cell_type": "markdown",
   "metadata": {
    "id": "SebzxFHCU_Aa"
   },
   "source": [
    "Again the percentage of missing values is very less. Lets remove those rows"
   ]
  },
  {
   "cell_type": "code",
   "execution_count": 32,
   "metadata": {
    "colab": {
     "base_uri": "https://localhost:8080/"
    },
    "id": "Q3IMUTVhVDB9",
    "outputId": "2df91acc-b6ba-4681-c95f-be5d8d147bd8"
   },
   "outputs": [
    {
     "data": {
      "text/plain": [
       "Id              0\n",
       "OwnerUserId     0\n",
       "CreationDate    0\n",
       "ParentId        0\n",
       "Score           0\n",
       "Body            0\n",
       "dtype: int64"
      ]
     },
     "execution_count": 32,
     "metadata": {},
     "output_type": "execute_result"
    }
   ],
   "source": [
    "answers_data = answers_data[-(answers_data.OwnerUserId.isnull())]\n",
    "answers_data.isnull().sum()"
   ]
  },
  {
   "cell_type": "markdown",
   "metadata": {
    "id": "sFTuSX3oVTgb"
   },
   "source": [
    "Lets check for the missing values inencoded form (if any). For eg -1 may represent a missing value, or something that sort of"
   ]
  },
  {
   "cell_type": "code",
   "execution_count": 33,
   "metadata": {
    "colab": {
     "base_uri": "https://localhost:8080/"
    },
    "id": "ZE_GO_E1VcHA",
    "outputId": "85d6fba6-3df9-4cf3-bcf1-e4a332c37a39"
   },
   "outputs": [
    {
     "data": {
      "text/html": [
       "<div>\n",
       "<style scoped>\n",
       "    .dataframe tbody tr th:only-of-type {\n",
       "        vertical-align: middle;\n",
       "    }\n",
       "\n",
       "    .dataframe tbody tr th {\n",
       "        vertical-align: top;\n",
       "    }\n",
       "\n",
       "    .dataframe thead th {\n",
       "        text-align: right;\n",
       "    }\n",
       "</style>\n",
       "<table border=\"1\" class=\"dataframe\">\n",
       "  <thead>\n",
       "    <tr style=\"text-align: right;\">\n",
       "      <th></th>\n",
       "      <th>Id</th>\n",
       "      <th>OwnerUserId</th>\n",
       "      <th>ParentId</th>\n",
       "      <th>Score</th>\n",
       "    </tr>\n",
       "  </thead>\n",
       "  <tbody>\n",
       "    <tr>\n",
       "      <th>count</th>\n",
       "      <td>2.001316e+06</td>\n",
       "      <td>2.001316e+06</td>\n",
       "      <td>2.001316e+06</td>\n",
       "      <td>2.001316e+06</td>\n",
       "    </tr>\n",
       "    <tr>\n",
       "      <th>mean</th>\n",
       "      <td>1.919704e+07</td>\n",
       "      <td>1.487613e+06</td>\n",
       "      <td>1.812337e+07</td>\n",
       "      <td>2.479975e+00</td>\n",
       "    </tr>\n",
       "    <tr>\n",
       "      <th>std</th>\n",
       "      <td>1.167805e+07</td>\n",
       "      <td>1.549051e+06</td>\n",
       "      <td>1.168503e+07</td>\n",
       "      <td>1.592961e+01</td>\n",
       "    </tr>\n",
       "    <tr>\n",
       "      <th>min</th>\n",
       "      <td>9.200000e+01</td>\n",
       "      <td>1.000000e+00</td>\n",
       "      <td>8.000000e+01</td>\n",
       "      <td>-4.200000e+01</td>\n",
       "    </tr>\n",
       "    <tr>\n",
       "      <th>25%</th>\n",
       "      <td>8.904733e+06</td>\n",
       "      <td>2.818680e+05</td>\n",
       "      <td>7.741250e+06</td>\n",
       "      <td>0.000000e+00</td>\n",
       "    </tr>\n",
       "    <tr>\n",
       "      <th>50%</th>\n",
       "      <td>1.871997e+07</td>\n",
       "      <td>9.546430e+05</td>\n",
       "      <td>1.717589e+07</td>\n",
       "      <td>1.000000e+00</td>\n",
       "    </tr>\n",
       "    <tr>\n",
       "      <th>75%</th>\n",
       "      <td>2.933869e+07</td>\n",
       "      <td>2.197072e+06</td>\n",
       "      <td>2.809016e+07</td>\n",
       "      <td>2.000000e+00</td>\n",
       "    </tr>\n",
       "    <tr>\n",
       "      <th>max</th>\n",
       "      <td>4.014339e+07</td>\n",
       "      <td>7.045028e+06</td>\n",
       "      <td>4.014319e+07</td>\n",
       "      <td>5.718000e+03</td>\n",
       "    </tr>\n",
       "  </tbody>\n",
       "</table>\n",
       "</div>"
      ],
      "text/plain": [
       "                 Id   OwnerUserId      ParentId         Score\n",
       "count  2.001316e+06  2.001316e+06  2.001316e+06  2.001316e+06\n",
       "mean   1.919704e+07  1.487613e+06  1.812337e+07  2.479975e+00\n",
       "std    1.167805e+07  1.549051e+06  1.168503e+07  1.592961e+01\n",
       "min    9.200000e+01  1.000000e+00  8.000000e+01 -4.200000e+01\n",
       "25%    8.904733e+06  2.818680e+05  7.741250e+06  0.000000e+00\n",
       "50%    1.871997e+07  9.546430e+05  1.717589e+07  1.000000e+00\n",
       "75%    2.933869e+07  2.197072e+06  2.809016e+07  2.000000e+00\n",
       "max    4.014339e+07  7.045028e+06  4.014319e+07  5.718000e+03"
      ]
     },
     "execution_count": 33,
     "metadata": {},
     "output_type": "execute_result"
    }
   ],
   "source": [
    "answers_data.describe()"
   ]
  },
  {
   "cell_type": "markdown",
   "metadata": {
    "id": "CaOxR4PtVi2Y"
   },
   "source": [
    "Looks good from the above output. (Note: Scores can be negative, hence there is no issue in that)\n",
    "\n",
    "\n",
    "Now again looking at the Data Types of the column, CreationDate should be changed to a date format. Lets do it...."
   ]
  },
  {
   "cell_type": "code",
   "execution_count": 34,
   "metadata": {
    "colab": {
     "base_uri": "https://localhost:8080/"
    },
    "id": "4M8Bi3W8V7Kd",
    "outputId": "3fc953fe-e88d-4862-a6cc-e257e327922a"
   },
   "outputs": [
    {
     "data": {
      "text/html": [
       "<div>\n",
       "<style scoped>\n",
       "    .dataframe tbody tr th:only-of-type {\n",
       "        vertical-align: middle;\n",
       "    }\n",
       "\n",
       "    .dataframe tbody tr th {\n",
       "        vertical-align: top;\n",
       "    }\n",
       "\n",
       "    .dataframe thead th {\n",
       "        text-align: right;\n",
       "    }\n",
       "</style>\n",
       "<table border=\"1\" class=\"dataframe\">\n",
       "  <thead>\n",
       "    <tr style=\"text-align: right;\">\n",
       "      <th></th>\n",
       "      <th>Id</th>\n",
       "      <th>OwnerUserId</th>\n",
       "      <th>CreationDate</th>\n",
       "      <th>ParentId</th>\n",
       "      <th>Score</th>\n",
       "      <th>Body</th>\n",
       "    </tr>\n",
       "  </thead>\n",
       "  <tbody>\n",
       "    <tr>\n",
       "      <th>0</th>\n",
       "      <td>92</td>\n",
       "      <td>61.0</td>\n",
       "      <td>2008-08-01 14:45:37+00:00</td>\n",
       "      <td>90</td>\n",
       "      <td>13</td>\n",
       "      <td>&lt;p&gt;&lt;a href=\"http://svnbook.red-bean.com/\"&gt;Vers...</td>\n",
       "    </tr>\n",
       "    <tr>\n",
       "      <th>1</th>\n",
       "      <td>124</td>\n",
       "      <td>26.0</td>\n",
       "      <td>2008-08-01 16:09:47+00:00</td>\n",
       "      <td>80</td>\n",
       "      <td>12</td>\n",
       "      <td>&lt;p&gt;I wound up using this. It is a kind of a ha...</td>\n",
       "    </tr>\n",
       "    <tr>\n",
       "      <th>2</th>\n",
       "      <td>199</td>\n",
       "      <td>50.0</td>\n",
       "      <td>2008-08-01 19:36:46+00:00</td>\n",
       "      <td>180</td>\n",
       "      <td>1</td>\n",
       "      <td>&lt;p&gt;I've read somewhere the human eye can't dis...</td>\n",
       "    </tr>\n",
       "    <tr>\n",
       "      <th>3</th>\n",
       "      <td>269</td>\n",
       "      <td>91.0</td>\n",
       "      <td>2008-08-01 23:49:57+00:00</td>\n",
       "      <td>260</td>\n",
       "      <td>4</td>\n",
       "      <td>&lt;p&gt;Yes, I thought about that, but I soon figur...</td>\n",
       "    </tr>\n",
       "    <tr>\n",
       "      <th>4</th>\n",
       "      <td>307</td>\n",
       "      <td>49.0</td>\n",
       "      <td>2008-08-02 01:49:46+00:00</td>\n",
       "      <td>260</td>\n",
       "      <td>28</td>\n",
       "      <td>&lt;p&gt;&lt;a href=\"http://www.codeproject.com/Article...</td>\n",
       "    </tr>\n",
       "  </tbody>\n",
       "</table>\n",
       "</div>"
      ],
      "text/plain": [
       "    Id  OwnerUserId              CreationDate  ParentId  Score  \\\n",
       "0   92         61.0 2008-08-01 14:45:37+00:00        90     13   \n",
       "1  124         26.0 2008-08-01 16:09:47+00:00        80     12   \n",
       "2  199         50.0 2008-08-01 19:36:46+00:00       180      1   \n",
       "3  269         91.0 2008-08-01 23:49:57+00:00       260      4   \n",
       "4  307         49.0 2008-08-02 01:49:46+00:00       260     28   \n",
       "\n",
       "                                                Body  \n",
       "0  <p><a href=\"http://svnbook.red-bean.com/\">Vers...  \n",
       "1  <p>I wound up using this. It is a kind of a ha...  \n",
       "2  <p>I've read somewhere the human eye can't dis...  \n",
       "3  <p>Yes, I thought about that, but I soon figur...  \n",
       "4  <p><a href=\"http://www.codeproject.com/Article...  "
      ]
     },
     "execution_count": 34,
     "metadata": {},
     "output_type": "execute_result"
    }
   ],
   "source": [
    "answers_data['CreationDate'] = pd.to_datetime(answers_data['CreationDate'])\n",
    "answers_data.head()\n"
   ]
  },
  {
   "cell_type": "code",
   "execution_count": 35,
   "metadata": {
    "colab": {
     "base_uri": "https://localhost:8080/"
    },
    "id": "v47ECTwlWOjT",
    "outputId": "f1e30511-be94-4648-f8b2-e915dbdc902c"
   },
   "outputs": [
    {
     "name": "stdout",
     "output_type": "stream",
     "text": [
      "<class 'pandas.core.frame.DataFrame'>\n",
      "Int64Index: 2001316 entries, 0 to 2014515\n",
      "Data columns (total 6 columns):\n",
      " #   Column        Dtype              \n",
      "---  ------        -----              \n",
      " 0   Id            int64              \n",
      " 1   OwnerUserId   float64            \n",
      " 2   CreationDate  datetime64[ns, UTC]\n",
      " 3   ParentId      int64              \n",
      " 4   Score         int64              \n",
      " 5   Body          object             \n",
      "dtypes: datetime64[ns, UTC](1), float64(1), int64(3), object(1)\n",
      "memory usage: 106.9+ MB\n"
     ]
    }
   ],
   "source": [
    "answers_data.info()"
   ]
  },
  {
   "cell_type": "markdown",
   "metadata": {
    "id": "YbjtqoKbgSON"
   },
   "source": [
    "Checking for duplicate Rows"
   ]
  },
  {
   "cell_type": "code",
   "execution_count": 36,
   "metadata": {
    "colab": {
     "base_uri": "https://localhost:8080/"
    },
    "id": "1mt0f8VzgV3w",
    "outputId": "aea4ac37-535d-4374-a98c-bea379af8a57"
   },
   "outputs": [
    {
     "data": {
      "text/plain": [
       "0"
      ]
     },
     "execution_count": 36,
     "metadata": {},
     "output_type": "execute_result"
    }
   ],
   "source": [
    "answers_data.duplicated().sum()"
   ]
  },
  {
   "cell_type": "markdown",
   "metadata": {
    "id": "DUjZI3z2WXba"
   },
   "source": [
    "So this dataset is also looks good now. Lets go to next....\n"
   ]
  },
  {
   "cell_type": "markdown",
   "metadata": {
    "id": "BAOsxzWJWdtZ"
   },
   "source": [
    "#### Tags Dataset Cleaning"
   ]
  },
  {
   "cell_type": "code",
   "execution_count": 37,
   "metadata": {
    "colab": {
     "base_uri": "https://localhost:8080/"
    },
    "id": "dGB2XWD3Wi8N",
    "outputId": "d67ff513-9f4b-469a-b38d-22d256dbef75"
   },
   "outputs": [
    {
     "name": "stdout",
     "output_type": "stream",
     "text": [
      "<class 'pandas.core.frame.DataFrame'>\n",
      "RangeIndex: 3750994 entries, 0 to 3750993\n",
      "Data columns (total 2 columns):\n",
      " #   Column  Dtype \n",
      "---  ------  ----- \n",
      " 0   Id      int64 \n",
      " 1   Tag     object\n",
      "dtypes: int64(1), object(1)\n",
      "memory usage: 57.2+ MB\n"
     ]
    }
   ],
   "source": [
    "tags_data.info()"
   ]
  },
  {
   "cell_type": "markdown",
   "metadata": {
    "id": "rN-9EL_qWvfy"
   },
   "source": [
    "Clearly the type of dataset looks good.\n",
    "\n",
    "Lets check for missing values only"
   ]
  },
  {
   "cell_type": "code",
   "execution_count": 38,
   "metadata": {
    "colab": {
     "base_uri": "https://localhost:8080/"
    },
    "id": "gb_bo2dPW4jX",
    "outputId": "370acbff-eb83-4bf5-c6eb-2561f051d3aa"
   },
   "outputs": [
    {
     "data": {
      "text/plain": [
       "Id        0\n",
       "Tag    1113\n",
       "dtype: int64"
      ]
     },
     "execution_count": 38,
     "metadata": {},
     "output_type": "execute_result"
    }
   ],
   "source": [
    "tags_data.isnull().sum()"
   ]
  },
  {
   "cell_type": "markdown",
   "metadata": {
    "id": "Vh4hp4C3W_hN"
   },
   "source": [
    "Lets see the percentage of null values"
   ]
  },
  {
   "cell_type": "code",
   "execution_count": 39,
   "metadata": {
    "colab": {
     "base_uri": "https://localhost:8080/"
    },
    "id": "OBZOONdEXCRz",
    "outputId": "9c3b02a2-1d06-44be-9a18-a37ff10733ed"
   },
   "outputs": [
    {
     "data": {
      "text/plain": [
       "Id     0.000000\n",
       "Tag    0.029672\n",
       "dtype: float64"
      ]
     },
     "execution_count": 39,
     "metadata": {},
     "output_type": "execute_result"
    }
   ],
   "source": [
    "tags_data.isnull().sum()*100/(len(tags_data))"
   ]
  },
  {
   "cell_type": "code",
   "execution_count": 40,
   "metadata": {
    "colab": {
     "base_uri": "https://localhost:8080/"
    },
    "id": "Uvl05xHVZVvl",
    "outputId": "f0faa8ce-2208-4430-b54a-0c43fe72d65f"
   },
   "outputs": [
    {
     "data": {
      "text/plain": [
       "javascript      124155\n",
       "java            115212\n",
       "c#              101186\n",
       "php              98808\n",
       "android          90659\n",
       "                 ...  \n",
       "monetdblite          1\n",
       "meekro               1\n",
       "scitools             1\n",
       "gae-python27         1\n",
       "bpy                  1\n",
       "Name: Tag, Length: 37034, dtype: int64"
      ]
     },
     "execution_count": 40,
     "metadata": {},
     "output_type": "execute_result"
    }
   ],
   "source": [
    "tags_data.Tag.value_counts()"
   ]
  },
  {
   "cell_type": "markdown",
   "metadata": {
    "id": "8NjRAkNeXu43"
   },
   "source": [
    "We can delete the missing values here as well. But as the tags column is categorical column, lets try a different approach and subsititute the values with the mode of overall Tags Column. This is done as it is highly likely that mode value could substitute the missing values. Also, as the missing values are comparitively very less, its fair enough to make this assumption"
   ]
  },
  {
   "cell_type": "code",
   "execution_count": 41,
   "metadata": {
    "colab": {
     "base_uri": "https://localhost:8080/"
    },
    "id": "Kl-2xDbmYKF2",
    "outputId": "028786d6-eeea-4f39-f43e-4e08bf487925"
   },
   "outputs": [
    {
     "name": "stdout",
     "output_type": "stream",
     "text": [
      "javascript\n"
     ]
    }
   ],
   "source": [
    "mode = tags_data.Tag.mode()[0]\n",
    "print(mode)"
   ]
  },
  {
   "cell_type": "code",
   "execution_count": 42,
   "metadata": {},
   "outputs": [],
   "source": [
    "#This is also an important result. Lets store it in our dB\n",
    "sql = \"INSERT INTO stackoverflow(Question,Answer) VALUES(%s,%s)\"\n",
    "val  = (\"Top tag used\",str(mode))\n",
    "cur.execute(sql,val)"
   ]
  },
  {
   "cell_type": "code",
   "execution_count": 43,
   "metadata": {
    "colab": {
     "base_uri": "https://localhost:8080/"
    },
    "id": "twFXPx-MYdYc",
    "outputId": "1001f906-636b-45b7-ef9b-e02752462760"
   },
   "outputs": [
    {
     "data": {
      "text/plain": [
       "Id     0\n",
       "Tag    0\n",
       "dtype: int64"
      ]
     },
     "execution_count": 43,
     "metadata": {},
     "output_type": "execute_result"
    }
   ],
   "source": [
    "tags_data.Tag.fillna(mode,inplace=True)\n",
    "tags_data.isnull().sum()"
   ]
  },
  {
   "cell_type": "code",
   "execution_count": 44,
   "metadata": {
    "colab": {
     "base_uri": "https://localhost:8080/"
    },
    "id": "cNW6bdBoZMYd",
    "outputId": "c8dcf684-4f23-4f2d-b6ad-83f5784b95df"
   },
   "outputs": [
    {
     "data": {
      "text/plain": [
       "javascript      125268\n",
       "java            115212\n",
       "c#              101186\n",
       "php              98808\n",
       "android          90659\n",
       "                 ...  \n",
       "monetdblite          1\n",
       "meekro               1\n",
       "scitools             1\n",
       "gae-python27         1\n",
       "bpy                  1\n",
       "Name: Tag, Length: 37034, dtype: int64"
      ]
     },
     "execution_count": 44,
     "metadata": {},
     "output_type": "execute_result"
    }
   ],
   "source": [
    "tags_data.Tag.value_counts()"
   ]
  },
  {
   "cell_type": "code",
   "execution_count": 45,
   "metadata": {
    "colab": {
     "base_uri": "https://localhost:8080/"
    },
    "id": "t7aZjruDZQCO",
    "outputId": "5b98a41a-c379-486a-85a7-1adca5f3e354"
   },
   "outputs": [
    {
     "name": "stdout",
     "output_type": "stream",
     "text": [
      "<class 'pandas.core.frame.DataFrame'>\n",
      "RangeIndex: 3750994 entries, 0 to 3750993\n",
      "Data columns (total 2 columns):\n",
      " #   Column  Dtype \n",
      "---  ------  ----- \n",
      " 0   Id      int64 \n",
      " 1   Tag     object\n",
      "dtypes: int64(1), object(1)\n",
      "memory usage: 57.2+ MB\n"
     ]
    }
   ],
   "source": [
    "tags_data.info()"
   ]
  },
  {
   "cell_type": "markdown",
   "metadata": {
    "id": "_wfQd8d-fF5r"
   },
   "source": [
    "Lets check for duplicate rows if any"
   ]
  },
  {
   "cell_type": "code",
   "execution_count": 46,
   "metadata": {
    "colab": {
     "base_uri": "https://localhost:8080/"
    },
    "id": "xKav3hHpfJNN",
    "outputId": "590f9fe1-3b7a-4c02-b5b2-d1983ac2d95c"
   },
   "outputs": [
    {
     "data": {
      "text/plain": [
       "80"
      ]
     },
     "execution_count": 46,
     "metadata": {},
     "output_type": "execute_result"
    }
   ],
   "source": [
    "tags_data.duplicated().sum()"
   ]
  },
  {
   "cell_type": "code",
   "execution_count": 47,
   "metadata": {
    "colab": {
     "base_uri": "https://localhost:8080/"
    },
    "id": "s-aksFZWfplK",
    "outputId": "59e884eb-8e3a-4ee1-914d-c46ac0499ce1"
   },
   "outputs": [
    {
     "data": {
      "text/plain": [
       "0"
      ]
     },
     "execution_count": 47,
     "metadata": {},
     "output_type": "execute_result"
    }
   ],
   "source": [
    "tags_data = tags_data[-(tags_data.duplicated())]\n",
    "tags_data.duplicated().sum()"
   ]
  },
  {
   "cell_type": "code",
   "execution_count": 48,
   "metadata": {
    "colab": {
     "base_uri": "https://localhost:8080/"
    },
    "id": "hzfkveZRZd9g",
    "outputId": "159bd7b7-0e74-4fa8-cb1b-e4c4585df190"
   },
   "outputs": [
    {
     "data": {
      "text/html": [
       "<div>\n",
       "<style scoped>\n",
       "    .dataframe tbody tr th:only-of-type {\n",
       "        vertical-align: middle;\n",
       "    }\n",
       "\n",
       "    .dataframe tbody tr th {\n",
       "        vertical-align: top;\n",
       "    }\n",
       "\n",
       "    .dataframe thead th {\n",
       "        text-align: right;\n",
       "    }\n",
       "</style>\n",
       "<table border=\"1\" class=\"dataframe\">\n",
       "  <thead>\n",
       "    <tr style=\"text-align: right;\">\n",
       "      <th></th>\n",
       "      <th>Id</th>\n",
       "      <th>Tag</th>\n",
       "    </tr>\n",
       "  </thead>\n",
       "  <tbody>\n",
       "    <tr>\n",
       "      <th>0</th>\n",
       "      <td>80</td>\n",
       "      <td>flex</td>\n",
       "    </tr>\n",
       "    <tr>\n",
       "      <th>1</th>\n",
       "      <td>80</td>\n",
       "      <td>actionscript-3</td>\n",
       "    </tr>\n",
       "    <tr>\n",
       "      <th>2</th>\n",
       "      <td>80</td>\n",
       "      <td>air</td>\n",
       "    </tr>\n",
       "    <tr>\n",
       "      <th>3</th>\n",
       "      <td>90</td>\n",
       "      <td>svn</td>\n",
       "    </tr>\n",
       "    <tr>\n",
       "      <th>4</th>\n",
       "      <td>90</td>\n",
       "      <td>tortoisesvn</td>\n",
       "    </tr>\n",
       "  </tbody>\n",
       "</table>\n",
       "</div>"
      ],
      "text/plain": [
       "   Id             Tag\n",
       "0  80            flex\n",
       "1  80  actionscript-3\n",
       "2  80             air\n",
       "3  90             svn\n",
       "4  90     tortoisesvn"
      ]
     },
     "execution_count": 48,
     "metadata": {},
     "output_type": "execute_result"
    }
   ],
   "source": [
    "tags_data.head()"
   ]
  },
  {
   "cell_type": "code",
   "execution_count": 49,
   "metadata": {
    "colab": {
     "base_uri": "https://localhost:8080/"
    },
    "id": "oAk0_1tMf3UU",
    "outputId": "e6c3b768-410a-4ee5-fb9c-519a6719f90f"
   },
   "outputs": [
    {
     "name": "stdout",
     "output_type": "stream",
     "text": [
      "<class 'pandas.core.frame.DataFrame'>\n",
      "Int64Index: 3750914 entries, 0 to 3750993\n",
      "Data columns (total 2 columns):\n",
      " #   Column  Dtype \n",
      "---  ------  ----- \n",
      " 0   Id      int64 \n",
      " 1   Tag     object\n",
      "dtypes: int64(1), object(1)\n",
      "memory usage: 85.9+ MB\n"
     ]
    }
   ],
   "source": [
    "tags_data.info()"
   ]
  },
  {
   "cell_type": "markdown",
   "metadata": {
    "id": "BRF-Q7YkapiR"
   },
   "source": [
    "#### Users Dataset Cleaning"
   ]
  },
  {
   "cell_type": "code",
   "execution_count": 50,
   "metadata": {
    "colab": {
     "base_uri": "https://localhost:8080/"
    },
    "id": "OPfHiCmSarip",
    "outputId": "5b976a87-1788-45ed-d9be-780b3bcf3cf1"
   },
   "outputs": [
    {
     "name": "stdout",
     "output_type": "stream",
     "text": [
      "<class 'pandas.core.frame.DataFrame'>\n",
      "RangeIndex: 1990480 entries, 0 to 1990479\n",
      "Data columns (total 9 columns):\n",
      " #   Column            Dtype \n",
      "---  ------            ----- \n",
      " 0   Unnamed: 0        int64 \n",
      " 1   id                int64 \n",
      " 2   display_name      object\n",
      " 3   creation_date     object\n",
      " 4   last_access_date  object\n",
      " 5   reputation        int64 \n",
      " 6   up_votes          int64 \n",
      " 7   down_votes        int64 \n",
      " 8   views             int64 \n",
      "dtypes: int64(6), object(3)\n",
      "memory usage: 136.7+ MB\n"
     ]
    }
   ],
   "source": [
    "users_data.info()"
   ]
  },
  {
   "cell_type": "markdown",
   "metadata": {
    "id": "6rdL_NT3a_Nq"
   },
   "source": [
    "Checking for missing values and percentages"
   ]
  },
  {
   "cell_type": "code",
   "execution_count": 51,
   "metadata": {
    "colab": {
     "base_uri": "https://localhost:8080/"
    },
    "id": "6ZTdy3L-bFQT",
    "outputId": "bafdad0e-3585-4ed9-8b1b-5ca8076ccc5c"
   },
   "outputs": [
    {
     "data": {
      "text/plain": [
       "Unnamed: 0            0\n",
       "id                    0\n",
       "display_name        136\n",
       "creation_date         0\n",
       "last_access_date      0\n",
       "reputation            0\n",
       "up_votes              0\n",
       "down_votes            0\n",
       "views                 0\n",
       "dtype: int64"
      ]
     },
     "execution_count": 51,
     "metadata": {},
     "output_type": "execute_result"
    }
   ],
   "source": [
    "users_data.isnull().sum()"
   ]
  },
  {
   "cell_type": "code",
   "execution_count": 52,
   "metadata": {
    "colab": {
     "base_uri": "https://localhost:8080/"
    },
    "id": "i495LFawbJT6",
    "outputId": "876d3057-9de1-4c76-c0c6-2ae0a62d09fe"
   },
   "outputs": [
    {
     "data": {
      "text/plain": [
       "Unnamed: 0          0.000000\n",
       "id                  0.000000\n",
       "display_name        0.006833\n",
       "creation_date       0.000000\n",
       "last_access_date    0.000000\n",
       "reputation          0.000000\n",
       "up_votes            0.000000\n",
       "down_votes          0.000000\n",
       "views               0.000000\n",
       "dtype: float64"
      ]
     },
     "execution_count": 52,
     "metadata": {},
     "output_type": "execute_result"
    }
   ],
   "source": [
    "users_data.isnull().sum()*100/len(users_data)"
   ]
  },
  {
   "cell_type": "markdown",
   "metadata": {
    "id": "XKG23mayblRG"
   },
   "source": [
    "Lets delete the missing values"
   ]
  },
  {
   "cell_type": "code",
   "execution_count": 53,
   "metadata": {
    "colab": {
     "base_uri": "https://localhost:8080/"
    },
    "id": "PCdZDW6HbnSi",
    "outputId": "f3552888-2ae8-4840-beaa-0feae945c1cb"
   },
   "outputs": [
    {
     "data": {
      "text/plain": [
       "Unnamed: 0          0\n",
       "id                  0\n",
       "display_name        0\n",
       "creation_date       0\n",
       "last_access_date    0\n",
       "reputation          0\n",
       "up_votes            0\n",
       "down_votes          0\n",
       "views               0\n",
       "dtype: int64"
      ]
     },
     "execution_count": 53,
     "metadata": {},
     "output_type": "execute_result"
    }
   ],
   "source": [
    "users_data = users_data[-(users_data.display_name.isnull())]\n",
    "users_data.isnull().sum()"
   ]
  },
  {
   "cell_type": "code",
   "execution_count": 54,
   "metadata": {
    "colab": {
     "base_uri": "https://localhost:8080/"
    },
    "id": "SGtvEOnhbv6P",
    "outputId": "5a21a446-ce53-4004-d89c-560a6aff71af"
   },
   "outputs": [
    {
     "name": "stdout",
     "output_type": "stream",
     "text": [
      "<class 'pandas.core.frame.DataFrame'>\n",
      "Int64Index: 1990344 entries, 0 to 1990479\n",
      "Data columns (total 9 columns):\n",
      " #   Column            Dtype \n",
      "---  ------            ----- \n",
      " 0   Unnamed: 0        int64 \n",
      " 1   id                int64 \n",
      " 2   display_name      object\n",
      " 3   creation_date     object\n",
      " 4   last_access_date  object\n",
      " 5   reputation        int64 \n",
      " 6   up_votes          int64 \n",
      " 7   down_votes        int64 \n",
      " 8   views             int64 \n",
      "dtypes: int64(6), object(3)\n",
      "memory usage: 151.9+ MB\n"
     ]
    }
   ],
   "source": [
    "users_data.info()"
   ]
  },
  {
   "cell_type": "markdown",
   "metadata": {
    "id": "Dl0p2Ft1b0UI"
   },
   "source": [
    "Lets change the data type of dates columns"
   ]
  },
  {
   "cell_type": "code",
   "execution_count": 55,
   "metadata": {
    "colab": {
     "base_uri": "https://localhost:8080/"
    },
    "id": "mXAZQWekb4an",
    "outputId": "40fd2fec-73c8-4984-ad53-35bbf2c94f65"
   },
   "outputs": [
    {
     "name": "stdout",
     "output_type": "stream",
     "text": [
      "<class 'pandas.core.frame.DataFrame'>\n",
      "Int64Index: 1990344 entries, 0 to 1990479\n",
      "Data columns (total 9 columns):\n",
      " #   Column            Dtype              \n",
      "---  ------            -----              \n",
      " 0   Unnamed: 0        int64              \n",
      " 1   id                int64              \n",
      " 2   display_name      object             \n",
      " 3   creation_date     datetime64[ns, UTC]\n",
      " 4   last_access_date  object             \n",
      " 5   reputation        int64              \n",
      " 6   up_votes          int64              \n",
      " 7   down_votes        int64              \n",
      " 8   views             int64              \n",
      "dtypes: datetime64[ns, UTC](1), int64(6), object(2)\n",
      "memory usage: 151.9+ MB\n"
     ]
    }
   ],
   "source": [
    "users_data['creation_date'] = pd.to_datetime(users_data['creation_date'])\n",
    "users_data.info()"
   ]
  },
  {
   "cell_type": "code",
   "execution_count": 56,
   "metadata": {
    "colab": {
     "base_uri": "https://localhost:8080/"
    },
    "id": "yGzEarkCcIGo",
    "outputId": "351e0fdd-6262-4d43-8a49-9e2d104c4389"
   },
   "outputs": [
    {
     "name": "stdout",
     "output_type": "stream",
     "text": [
      "<class 'pandas.core.frame.DataFrame'>\n",
      "Int64Index: 1990344 entries, 0 to 1990479\n",
      "Data columns (total 9 columns):\n",
      " #   Column            Dtype              \n",
      "---  ------            -----              \n",
      " 0   Unnamed: 0        int64              \n",
      " 1   id                int64              \n",
      " 2   display_name      object             \n",
      " 3   creation_date     datetime64[ns, UTC]\n",
      " 4   last_access_date  datetime64[ns, UTC]\n",
      " 5   reputation        int64              \n",
      " 6   up_votes          int64              \n",
      " 7   down_votes        int64              \n",
      " 8   views             int64              \n",
      "dtypes: datetime64[ns, UTC](2), int64(6), object(1)\n",
      "memory usage: 151.9+ MB\n"
     ]
    }
   ],
   "source": [
    "users_data['last_access_date'] = pd.to_datetime(users_data['last_access_date'])\n",
    "users_data.info()"
   ]
  },
  {
   "cell_type": "markdown",
   "metadata": {
    "id": "mvvKJ1MFdQ_1"
   },
   "source": [
    "Column Unnamed is not required as it is the same as the id. Lets remove it"
   ]
  },
  {
   "cell_type": "code",
   "execution_count": 57,
   "metadata": {
    "colab": {
     "base_uri": "https://localhost:8080/"
    },
    "id": "Bgl6K2YGdT_D",
    "outputId": "f328f385-3218-46da-97d7-b617f9253406"
   },
   "outputs": [
    {
     "name": "stdout",
     "output_type": "stream",
     "text": [
      "<class 'pandas.core.frame.DataFrame'>\n",
      "Int64Index: 1990344 entries, 0 to 1990479\n",
      "Data columns (total 8 columns):\n",
      " #   Column            Dtype              \n",
      "---  ------            -----              \n",
      " 0   id                int64              \n",
      " 1   display_name      object             \n",
      " 2   creation_date     datetime64[ns, UTC]\n",
      " 3   last_access_date  datetime64[ns, UTC]\n",
      " 4   reputation        int64              \n",
      " 5   up_votes          int64              \n",
      " 6   down_votes        int64              \n",
      " 7   views             int64              \n",
      "dtypes: datetime64[ns, UTC](2), int64(5), object(1)\n",
      "memory usage: 136.7+ MB\n"
     ]
    }
   ],
   "source": [
    "users_data = users_data.drop('Unnamed: 0',axis = 1)\n",
    "users_data.info()"
   ]
  },
  {
   "cell_type": "code",
   "execution_count": 58,
   "metadata": {
    "colab": {
     "base_uri": "https://localhost:8080/",
     "height": 206
    },
    "id": "c_vCvCWkdZ5O",
    "outputId": "67e0aaa9-d00d-4288-b473-40c639ca91a8"
   },
   "outputs": [
    {
     "data": {
      "text/html": [
       "<div>\n",
       "<style scoped>\n",
       "    .dataframe tbody tr th:only-of-type {\n",
       "        vertical-align: middle;\n",
       "    }\n",
       "\n",
       "    .dataframe tbody tr th {\n",
       "        vertical-align: top;\n",
       "    }\n",
       "\n",
       "    .dataframe thead th {\n",
       "        text-align: right;\n",
       "    }\n",
       "</style>\n",
       "<table border=\"1\" class=\"dataframe\">\n",
       "  <thead>\n",
       "    <tr style=\"text-align: right;\">\n",
       "      <th></th>\n",
       "      <th>id</th>\n",
       "      <th>display_name</th>\n",
       "      <th>creation_date</th>\n",
       "      <th>last_access_date</th>\n",
       "      <th>reputation</th>\n",
       "      <th>up_votes</th>\n",
       "      <th>down_votes</th>\n",
       "      <th>views</th>\n",
       "    </tr>\n",
       "  </thead>\n",
       "  <tbody>\n",
       "    <tr>\n",
       "      <th>0</th>\n",
       "      <td>26</td>\n",
       "      <td>Shawn</td>\n",
       "      <td>2008-08-01 12:18:14.520000+00:00</td>\n",
       "      <td>2018-04-11 04:40:35.660000+00:00</td>\n",
       "      <td>11820</td>\n",
       "      <td>565</td>\n",
       "      <td>67</td>\n",
       "      <td>3547</td>\n",
       "    </tr>\n",
       "    <tr>\n",
       "      <th>1</th>\n",
       "      <td>26</td>\n",
       "      <td>Shawn</td>\n",
       "      <td>2008-08-01 12:18:14.520000+00:00</td>\n",
       "      <td>2018-04-11 04:40:35.660000+00:00</td>\n",
       "      <td>11820</td>\n",
       "      <td>565</td>\n",
       "      <td>67</td>\n",
       "      <td>3547</td>\n",
       "    </tr>\n",
       "    <tr>\n",
       "      <th>2</th>\n",
       "      <td>26</td>\n",
       "      <td>Shawn</td>\n",
       "      <td>2008-08-01 12:18:14.520000+00:00</td>\n",
       "      <td>2018-04-11 04:40:35.660000+00:00</td>\n",
       "      <td>11820</td>\n",
       "      <td>565</td>\n",
       "      <td>67</td>\n",
       "      <td>3547</td>\n",
       "    </tr>\n",
       "    <tr>\n",
       "      <th>3</th>\n",
       "      <td>26</td>\n",
       "      <td>Shawn</td>\n",
       "      <td>2008-08-01 12:18:14.520000+00:00</td>\n",
       "      <td>2018-04-11 04:40:35.660000+00:00</td>\n",
       "      <td>11820</td>\n",
       "      <td>565</td>\n",
       "      <td>67</td>\n",
       "      <td>3547</td>\n",
       "    </tr>\n",
       "    <tr>\n",
       "      <th>4</th>\n",
       "      <td>26</td>\n",
       "      <td>Shawn</td>\n",
       "      <td>2008-08-01 12:18:14.520000+00:00</td>\n",
       "      <td>2018-04-11 04:40:35.660000+00:00</td>\n",
       "      <td>11820</td>\n",
       "      <td>565</td>\n",
       "      <td>67</td>\n",
       "      <td>3547</td>\n",
       "    </tr>\n",
       "  </tbody>\n",
       "</table>\n",
       "</div>"
      ],
      "text/plain": [
       "   id display_name                    creation_date  \\\n",
       "0  26        Shawn 2008-08-01 12:18:14.520000+00:00   \n",
       "1  26        Shawn 2008-08-01 12:18:14.520000+00:00   \n",
       "2  26        Shawn 2008-08-01 12:18:14.520000+00:00   \n",
       "3  26        Shawn 2008-08-01 12:18:14.520000+00:00   \n",
       "4  26        Shawn 2008-08-01 12:18:14.520000+00:00   \n",
       "\n",
       "                  last_access_date  reputation  up_votes  down_votes  views  \n",
       "0 2018-04-11 04:40:35.660000+00:00       11820       565          67   3547  \n",
       "1 2018-04-11 04:40:35.660000+00:00       11820       565          67   3547  \n",
       "2 2018-04-11 04:40:35.660000+00:00       11820       565          67   3547  \n",
       "3 2018-04-11 04:40:35.660000+00:00       11820       565          67   3547  \n",
       "4 2018-04-11 04:40:35.660000+00:00       11820       565          67   3547  "
      ]
     },
     "execution_count": 58,
     "metadata": {},
     "output_type": "execute_result"
    }
   ],
   "source": [
    "users_data.head()"
   ]
  },
  {
   "cell_type": "code",
   "execution_count": 59,
   "metadata": {
    "colab": {
     "base_uri": "https://localhost:8080/",
     "height": 300
    },
    "id": "o6jv6WscdjLG",
    "outputId": "d97c6293-59c6-4992-816a-e7e83c465f8d"
   },
   "outputs": [
    {
     "data": {
      "text/html": [
       "<div>\n",
       "<style scoped>\n",
       "    .dataframe tbody tr th:only-of-type {\n",
       "        vertical-align: middle;\n",
       "    }\n",
       "\n",
       "    .dataframe tbody tr th {\n",
       "        vertical-align: top;\n",
       "    }\n",
       "\n",
       "    .dataframe thead th {\n",
       "        text-align: right;\n",
       "    }\n",
       "</style>\n",
       "<table border=\"1\" class=\"dataframe\">\n",
       "  <thead>\n",
       "    <tr style=\"text-align: right;\">\n",
       "      <th></th>\n",
       "      <th>id</th>\n",
       "      <th>reputation</th>\n",
       "      <th>up_votes</th>\n",
       "      <th>down_votes</th>\n",
       "      <th>views</th>\n",
       "    </tr>\n",
       "  </thead>\n",
       "  <tbody>\n",
       "    <tr>\n",
       "      <th>count</th>\n",
       "      <td>1.990344e+06</td>\n",
       "      <td>1.990344e+06</td>\n",
       "      <td>1.990344e+06</td>\n",
       "      <td>1.990344e+06</td>\n",
       "      <td>1.990344e+06</td>\n",
       "    </tr>\n",
       "    <tr>\n",
       "      <th>mean</th>\n",
       "      <td>1.480673e+06</td>\n",
       "      <td>4.545769e+04</td>\n",
       "      <td>1.539782e+03</td>\n",
       "      <td>8.212903e+02</td>\n",
       "      <td>9.451433e+03</td>\n",
       "    </tr>\n",
       "    <tr>\n",
       "      <th>std</th>\n",
       "      <td>1.543820e+06</td>\n",
       "      <td>1.226415e+05</td>\n",
       "      <td>3.494353e+03</td>\n",
       "      <td>4.199174e+03</td>\n",
       "      <td>7.877838e+04</td>\n",
       "    </tr>\n",
       "    <tr>\n",
       "      <th>min</th>\n",
       "      <td>1.000000e+00</td>\n",
       "      <td>1.000000e+00</td>\n",
       "      <td>0.000000e+00</td>\n",
       "      <td>0.000000e+00</td>\n",
       "      <td>0.000000e+00</td>\n",
       "    </tr>\n",
       "    <tr>\n",
       "      <th>25%</th>\n",
       "      <td>2.797380e+05</td>\n",
       "      <td>9.310000e+02</td>\n",
       "      <td>5.800000e+01</td>\n",
       "      <td>2.000000e+00</td>\n",
       "      <td>1.090000e+02</td>\n",
       "    </tr>\n",
       "    <tr>\n",
       "      <th>50%</th>\n",
       "      <td>9.494760e+05</td>\n",
       "      <td>5.042000e+03</td>\n",
       "      <td>3.530000e+02</td>\n",
       "      <td>1.800000e+01</td>\n",
       "      <td>5.290000e+02</td>\n",
       "    </tr>\n",
       "    <tr>\n",
       "      <th>75%</th>\n",
       "      <td>2.183515e+06</td>\n",
       "      <td>2.806100e+04</td>\n",
       "      <td>1.470000e+03</td>\n",
       "      <td>1.490000e+02</td>\n",
       "      <td>2.675000e+03</td>\n",
       "    </tr>\n",
       "    <tr>\n",
       "      <th>max</th>\n",
       "      <td>7.045028e+06</td>\n",
       "      <td>1.128126e+06</td>\n",
       "      <td>1.005200e+05</td>\n",
       "      <td>7.495500e+04</td>\n",
       "      <td>1.835157e+06</td>\n",
       "    </tr>\n",
       "  </tbody>\n",
       "</table>\n",
       "</div>"
      ],
      "text/plain": [
       "                 id    reputation      up_votes    down_votes         views\n",
       "count  1.990344e+06  1.990344e+06  1.990344e+06  1.990344e+06  1.990344e+06\n",
       "mean   1.480673e+06  4.545769e+04  1.539782e+03  8.212903e+02  9.451433e+03\n",
       "std    1.543820e+06  1.226415e+05  3.494353e+03  4.199174e+03  7.877838e+04\n",
       "min    1.000000e+00  1.000000e+00  0.000000e+00  0.000000e+00  0.000000e+00\n",
       "25%    2.797380e+05  9.310000e+02  5.800000e+01  2.000000e+00  1.090000e+02\n",
       "50%    9.494760e+05  5.042000e+03  3.530000e+02  1.800000e+01  5.290000e+02\n",
       "75%    2.183515e+06  2.806100e+04  1.470000e+03  1.490000e+02  2.675000e+03\n",
       "max    7.045028e+06  1.128126e+06  1.005200e+05  7.495500e+04  1.835157e+06"
      ]
     },
     "execution_count": 59,
     "metadata": {},
     "output_type": "execute_result"
    }
   ],
   "source": [
    "users_data.describe()"
   ]
  },
  {
   "cell_type": "code",
   "execution_count": 60,
   "metadata": {
    "colab": {
     "base_uri": "https://localhost:8080/"
    },
    "id": "lb_ZRgsydm-z",
    "outputId": "02db5167-c8c4-4041-fc2a-ceb98e5c139a"
   },
   "outputs": [
    {
     "data": {
      "text/plain": [
       "Jon Skeet         3270\n",
       "Gordon Linoff     3009\n",
       "Alex              2175\n",
       "Darin Dimitrov    2144\n",
       "David             1946\n",
       "                  ... \n",
       "Harish Apkari        1\n",
       "badou                1\n",
       "Robert C             1\n",
       "JesseG               1\n",
       "Octavioamu           1\n",
       "Name: display_name, Length: 389234, dtype: int64"
      ]
     },
     "execution_count": 60,
     "metadata": {},
     "output_type": "execute_result"
    }
   ],
   "source": [
    "users_data.display_name.value_counts()"
   ]
  },
  {
   "cell_type": "markdown",
   "metadata": {
    "id": "Em2ukLoheDWa"
   },
   "source": [
    "There seems to be duplicate rows in this data. Lets check and remove them"
   ]
  },
  {
   "cell_type": "code",
   "execution_count": 61,
   "metadata": {
    "colab": {
     "base_uri": "https://localhost:8080/"
    },
    "id": "yAc_zWFGeIBn",
    "outputId": "7d1bfc06-b6d3-4a44-d7fc-ac214537b7bf"
   },
   "outputs": [
    {
     "data": {
      "text/plain": [
       "1524908"
      ]
     },
     "execution_count": 61,
     "metadata": {},
     "output_type": "execute_result"
    }
   ],
   "source": [
    "users_data.duplicated().sum()"
   ]
  },
  {
   "cell_type": "code",
   "execution_count": 62,
   "metadata": {
    "id": "7dWq1o0FeQN2"
   },
   "outputs": [],
   "source": [
    "users_data = users_data[-(users_data.duplicated())]"
   ]
  },
  {
   "cell_type": "code",
   "execution_count": 63,
   "metadata": {
    "colab": {
     "base_uri": "https://localhost:8080/"
    },
    "id": "lEZOJ07feUJG",
    "outputId": "633e2fd0-0968-4eeb-c703-a591487f83b8"
   },
   "outputs": [
    {
     "data": {
      "text/plain": [
       "0"
      ]
     },
     "execution_count": 63,
     "metadata": {},
     "output_type": "execute_result"
    }
   ],
   "source": [
    "users_data.duplicated().sum()"
   ]
  },
  {
   "cell_type": "code",
   "execution_count": 64,
   "metadata": {
    "colab": {
     "base_uri": "https://localhost:8080/"
    },
    "id": "KzqAUxPWhNwl",
    "outputId": "ec675d3d-63fa-462b-a87c-1acfd04028a6"
   },
   "outputs": [
    {
     "data": {
      "text/plain": [
       "Alex               645\n",
       "Chris              590\n",
       "David              488\n",
       "Mike               446\n",
       "Matt               419\n",
       "                  ... \n",
       "user6932536          1\n",
       "dof1985              1\n",
       "MaLe                 1\n",
       "oopsi                1\n",
       "Stephane Nicoll      1\n",
       "Name: display_name, Length: 389234, dtype: int64"
      ]
     },
     "execution_count": 64,
     "metadata": {},
     "output_type": "execute_result"
    }
   ],
   "source": [
    "users_data.display_name.value_counts()"
   ]
  },
  {
   "cell_type": "markdown",
   "metadata": {
    "id": "StjRml7JhZ1B"
   },
   "source": [
    "Above output doesn't mean there is any duplicate data. As there can be several people with name as Alex, Chris etc. As date of creation is different, these rows have persisted and only the rows which were exact duplicate have been removed."
   ]
  },
  {
   "cell_type": "code",
   "execution_count": 65,
   "metadata": {
    "colab": {
     "base_uri": "https://localhost:8080/",
     "height": 206
    },
    "id": "WOWuZlyteioh",
    "outputId": "0b8ccc06-044a-4397-be2b-d8e8ff308f73"
   },
   "outputs": [
    {
     "data": {
      "text/html": [
       "<div>\n",
       "<style scoped>\n",
       "    .dataframe tbody tr th:only-of-type {\n",
       "        vertical-align: middle;\n",
       "    }\n",
       "\n",
       "    .dataframe tbody tr th {\n",
       "        vertical-align: top;\n",
       "    }\n",
       "\n",
       "    .dataframe thead th {\n",
       "        text-align: right;\n",
       "    }\n",
       "</style>\n",
       "<table border=\"1\" class=\"dataframe\">\n",
       "  <thead>\n",
       "    <tr style=\"text-align: right;\">\n",
       "      <th></th>\n",
       "      <th>id</th>\n",
       "      <th>display_name</th>\n",
       "      <th>creation_date</th>\n",
       "      <th>last_access_date</th>\n",
       "      <th>reputation</th>\n",
       "      <th>up_votes</th>\n",
       "      <th>down_votes</th>\n",
       "      <th>views</th>\n",
       "    </tr>\n",
       "  </thead>\n",
       "  <tbody>\n",
       "    <tr>\n",
       "      <th>0</th>\n",
       "      <td>26</td>\n",
       "      <td>Shawn</td>\n",
       "      <td>2008-08-01 12:18:14.520000+00:00</td>\n",
       "      <td>2018-04-11 04:40:35.660000+00:00</td>\n",
       "      <td>11820</td>\n",
       "      <td>565</td>\n",
       "      <td>67</td>\n",
       "      <td>3547</td>\n",
       "    </tr>\n",
       "    <tr>\n",
       "      <th>27</th>\n",
       "      <td>1109</td>\n",
       "      <td>Theo</td>\n",
       "      <td>2008-08-12 12:16:58.610000+00:00</td>\n",
       "      <td>2019-08-31 11:39:52.280000+00:00</td>\n",
       "      <td>116072</td>\n",
       "      <td>457</td>\n",
       "      <td>136</td>\n",
       "      <td>6905</td>\n",
       "    </tr>\n",
       "    <tr>\n",
       "      <th>85</th>\n",
       "      <td>364174</td>\n",
       "      <td>stats</td>\n",
       "      <td>2010-06-11 03:34:57.137000+00:00</td>\n",
       "      <td>2019-08-29 18:37:35.027000+00:00</td>\n",
       "      <td>325</td>\n",
       "      <td>25</td>\n",
       "      <td>1</td>\n",
       "      <td>60</td>\n",
       "    </tr>\n",
       "    <tr>\n",
       "      <th>87</th>\n",
       "      <td>61</td>\n",
       "      <td>Bernard</td>\n",
       "      <td>2008-08-01 14:21:00.573000+00:00</td>\n",
       "      <td>2019-08-30 07:11:58.297000+00:00</td>\n",
       "      <td>22779</td>\n",
       "      <td>1321</td>\n",
       "      <td>219</td>\n",
       "      <td>1731</td>\n",
       "    </tr>\n",
       "    <tr>\n",
       "      <th>97</th>\n",
       "      <td>20709</td>\n",
       "      <td>Black Horus</td>\n",
       "      <td>2008-09-22 20:03:39.710000+00:00</td>\n",
       "      <td>2019-09-01 01:17:38.133000+00:00</td>\n",
       "      <td>978</td>\n",
       "      <td>73</td>\n",
       "      <td>2</td>\n",
       "      <td>96</td>\n",
       "    </tr>\n",
       "  </tbody>\n",
       "</table>\n",
       "</div>"
      ],
      "text/plain": [
       "        id display_name                    creation_date  \\\n",
       "0       26        Shawn 2008-08-01 12:18:14.520000+00:00   \n",
       "27    1109         Theo 2008-08-12 12:16:58.610000+00:00   \n",
       "85  364174        stats 2010-06-11 03:34:57.137000+00:00   \n",
       "87      61      Bernard 2008-08-01 14:21:00.573000+00:00   \n",
       "97   20709  Black Horus 2008-09-22 20:03:39.710000+00:00   \n",
       "\n",
       "                   last_access_date  reputation  up_votes  down_votes  views  \n",
       "0  2018-04-11 04:40:35.660000+00:00       11820       565          67   3547  \n",
       "27 2019-08-31 11:39:52.280000+00:00      116072       457         136   6905  \n",
       "85 2019-08-29 18:37:35.027000+00:00         325        25           1     60  \n",
       "87 2019-08-30 07:11:58.297000+00:00       22779      1321         219   1731  \n",
       "97 2019-09-01 01:17:38.133000+00:00         978        73           2     96  "
      ]
     },
     "execution_count": 65,
     "metadata": {},
     "output_type": "execute_result"
    }
   ],
   "source": [
    "users_data.head()"
   ]
  },
  {
   "cell_type": "code",
   "execution_count": 66,
   "metadata": {
    "colab": {
     "base_uri": "https://localhost:8080/",
     "height": 206
    },
    "id": "fXaFbOO7ek4g",
    "outputId": "934aaa0b-ff5f-4b24-90d0-e42b39e417bf"
   },
   "outputs": [
    {
     "data": {
      "text/html": [
       "<div>\n",
       "<style scoped>\n",
       "    .dataframe tbody tr th:only-of-type {\n",
       "        vertical-align: middle;\n",
       "    }\n",
       "\n",
       "    .dataframe tbody tr th {\n",
       "        vertical-align: top;\n",
       "    }\n",
       "\n",
       "    .dataframe thead th {\n",
       "        text-align: right;\n",
       "    }\n",
       "</style>\n",
       "<table border=\"1\" class=\"dataframe\">\n",
       "  <thead>\n",
       "    <tr style=\"text-align: right;\">\n",
       "      <th></th>\n",
       "      <th>index</th>\n",
       "      <th>id</th>\n",
       "      <th>display_name</th>\n",
       "      <th>creation_date</th>\n",
       "      <th>last_access_date</th>\n",
       "      <th>reputation</th>\n",
       "      <th>up_votes</th>\n",
       "      <th>down_votes</th>\n",
       "      <th>views</th>\n",
       "    </tr>\n",
       "  </thead>\n",
       "  <tbody>\n",
       "    <tr>\n",
       "      <th>0</th>\n",
       "      <td>0</td>\n",
       "      <td>26</td>\n",
       "      <td>Shawn</td>\n",
       "      <td>2008-08-01 12:18:14.520000+00:00</td>\n",
       "      <td>2018-04-11 04:40:35.660000+00:00</td>\n",
       "      <td>11820</td>\n",
       "      <td>565</td>\n",
       "      <td>67</td>\n",
       "      <td>3547</td>\n",
       "    </tr>\n",
       "    <tr>\n",
       "      <th>1</th>\n",
       "      <td>27</td>\n",
       "      <td>1109</td>\n",
       "      <td>Theo</td>\n",
       "      <td>2008-08-12 12:16:58.610000+00:00</td>\n",
       "      <td>2019-08-31 11:39:52.280000+00:00</td>\n",
       "      <td>116072</td>\n",
       "      <td>457</td>\n",
       "      <td>136</td>\n",
       "      <td>6905</td>\n",
       "    </tr>\n",
       "    <tr>\n",
       "      <th>2</th>\n",
       "      <td>85</td>\n",
       "      <td>364174</td>\n",
       "      <td>stats</td>\n",
       "      <td>2010-06-11 03:34:57.137000+00:00</td>\n",
       "      <td>2019-08-29 18:37:35.027000+00:00</td>\n",
       "      <td>325</td>\n",
       "      <td>25</td>\n",
       "      <td>1</td>\n",
       "      <td>60</td>\n",
       "    </tr>\n",
       "    <tr>\n",
       "      <th>3</th>\n",
       "      <td>87</td>\n",
       "      <td>61</td>\n",
       "      <td>Bernard</td>\n",
       "      <td>2008-08-01 14:21:00.573000+00:00</td>\n",
       "      <td>2019-08-30 07:11:58.297000+00:00</td>\n",
       "      <td>22779</td>\n",
       "      <td>1321</td>\n",
       "      <td>219</td>\n",
       "      <td>1731</td>\n",
       "    </tr>\n",
       "    <tr>\n",
       "      <th>4</th>\n",
       "      <td>97</td>\n",
       "      <td>20709</td>\n",
       "      <td>Black Horus</td>\n",
       "      <td>2008-09-22 20:03:39.710000+00:00</td>\n",
       "      <td>2019-09-01 01:17:38.133000+00:00</td>\n",
       "      <td>978</td>\n",
       "      <td>73</td>\n",
       "      <td>2</td>\n",
       "      <td>96</td>\n",
       "    </tr>\n",
       "  </tbody>\n",
       "</table>\n",
       "</div>"
      ],
      "text/plain": [
       "   index      id display_name                    creation_date  \\\n",
       "0      0      26        Shawn 2008-08-01 12:18:14.520000+00:00   \n",
       "1     27    1109         Theo 2008-08-12 12:16:58.610000+00:00   \n",
       "2     85  364174        stats 2010-06-11 03:34:57.137000+00:00   \n",
       "3     87      61      Bernard 2008-08-01 14:21:00.573000+00:00   \n",
       "4     97   20709  Black Horus 2008-09-22 20:03:39.710000+00:00   \n",
       "\n",
       "                  last_access_date  reputation  up_votes  down_votes  views  \n",
       "0 2018-04-11 04:40:35.660000+00:00       11820       565          67   3547  \n",
       "1 2019-08-31 11:39:52.280000+00:00      116072       457         136   6905  \n",
       "2 2019-08-29 18:37:35.027000+00:00         325        25           1     60  \n",
       "3 2019-08-30 07:11:58.297000+00:00       22779      1321         219   1731  \n",
       "4 2019-09-01 01:17:38.133000+00:00         978        73           2     96  "
      ]
     },
     "execution_count": 66,
     "metadata": {},
     "output_type": "execute_result"
    }
   ],
   "source": [
    "users_data.reset_index(inplace= True)\n",
    "users_data.head()"
   ]
  },
  {
   "cell_type": "code",
   "execution_count": 67,
   "metadata": {
    "colab": {
     "base_uri": "https://localhost:8080/"
    },
    "id": "bfe5pQexevVP",
    "outputId": "92327d63-85ca-46d7-b1d7-4428ae5e6ad1"
   },
   "outputs": [
    {
     "name": "stdout",
     "output_type": "stream",
     "text": [
      "<class 'pandas.core.frame.DataFrame'>\n",
      "RangeIndex: 465436 entries, 0 to 465435\n",
      "Data columns (total 9 columns):\n",
      " #   Column            Non-Null Count   Dtype              \n",
      "---  ------            --------------   -----              \n",
      " 0   index             465436 non-null  int64              \n",
      " 1   id                465436 non-null  int64              \n",
      " 2   display_name      465436 non-null  object             \n",
      " 3   creation_date     465436 non-null  datetime64[ns, UTC]\n",
      " 4   last_access_date  465436 non-null  datetime64[ns, UTC]\n",
      " 5   reputation        465436 non-null  int64              \n",
      " 6   up_votes          465436 non-null  int64              \n",
      " 7   down_votes        465436 non-null  int64              \n",
      " 8   views             465436 non-null  int64              \n",
      "dtypes: datetime64[ns, UTC](2), int64(6), object(1)\n",
      "memory usage: 32.0+ MB\n"
     ]
    }
   ],
   "source": [
    "users_data.info()"
   ]
  },
  {
   "cell_type": "markdown",
   "metadata": {
    "id": "3T_YzOtMk95x"
   },
   "source": [
    "### Data Analysis"
   ]
  },
  {
   "cell_type": "markdown",
   "metadata": {
    "id": "WwMscCbPlF_q"
   },
   "source": [
    "Now lets perform the different types of analysis on the datasets. Again we will go one by one on each dataset.\n",
    "\n",
    "Note: Here we have just made an elementary analysis of the data, to understand the data. As we move ahead, more insights and analytics would be handled"
   ]
  },
  {
   "cell_type": "markdown",
   "metadata": {
    "id": "KX-pukTn70rs"
   },
   "source": [
    "#### Questions Dataset "
   ]
  },
  {
   "cell_type": "code",
   "execution_count": 68,
   "metadata": {
    "colab": {
     "base_uri": "https://localhost:8080/"
    },
    "id": "dy_C6qU17-nr",
    "outputId": "27a85402-93d7-4763-eed4-3df98700626b"
   },
   "outputs": [
    {
     "data": {
      "text/plain": [
       "875317.0     250\n",
       "39677.0      227\n",
       "4653.0       175\n",
       "651174.0     164\n",
       "34537.0      153\n",
       "            ... \n",
       "5669332.0      1\n",
       "480786.0       1\n",
       "6646467.0      1\n",
       "1159796.0      1\n",
       "8192.0         1\n",
       "Name: OwnerUserId, Length: 630909, dtype: int64"
      ]
     },
     "execution_count": 68,
     "metadata": {},
     "output_type": "execute_result"
    }
   ],
   "source": [
    "#checking the frequency of questions asked by various users\n",
    "questions_data.OwnerUserId.value_counts()"
   ]
  },
  {
   "cell_type": "code",
   "execution_count": 69,
   "metadata": {
    "colab": {
     "base_uri": "https://localhost:8080/"
    },
    "id": "OoGaK873-wft",
    "outputId": "6e2525db-1e73-4d94-f4c5-5d86eab4b305"
   },
   "outputs": [
    {
     "data": {
      "text/plain": [
       "<matplotlib.axes._subplots.AxesSubplot at 0x7ff18ab8ed10>"
      ]
     },
     "execution_count": 69,
     "metadata": {},
     "output_type": "execute_result"
    },
    {
     "data": {
      "image/png": "[encoded data removed]",
      "text/plain": [
       "<Figure size 432x288 with 1 Axes>"
      ]
     },
     "metadata": {
      "needs_background": "light"
     },
     "output_type": "display_data"
    }
   ],
   "source": [
    "#Now lets plot the box plot for Score column under this dataset\n",
    "questions_data.Score.plot(kind='box')"
   ]
  },
  {
   "cell_type": "code",
   "execution_count": 70,
   "metadata": {
    "id": "lyw5k9sQAZlc"
   },
   "outputs": [],
   "source": [
    "#Clearly there are outliers in this data set but we should not remove this as they are genuine cases (There can be good questions with very high scores)"
   ]
  },
  {
   "cell_type": "markdown",
   "metadata": {
    "id": "x-hdw9BaCSca"
   },
   "source": [
    "#### Answers Dataset"
   ]
  },
  {
   "cell_type": "code",
   "execution_count": 71,
   "metadata": {
    "colab": {
     "base_uri": "https://localhost:8080/"
    },
    "id": "5kQj4ZKKCUtY",
    "outputId": "117f8049-0efe-4ec6-961c-595b9f508cbe"
   },
   "outputs": [
    {
     "data": {
      "text/plain": [
       "22656.0      3270\n",
       "1144035.0    3009\n",
       "29407.0      2144\n",
       "548225.0     1924\n",
       "115145.0     1813\n",
       "             ... \n",
       "495039.0        1\n",
       "30940.0         1\n",
       "495062.0        1\n",
       "495070.0        1\n",
       "512.0           1\n",
       "Name: OwnerUserId, Length: 468797, dtype: int64"
      ]
     },
     "execution_count": 71,
     "metadata": {},
     "output_type": "execute_result"
    }
   ],
   "source": [
    "#Checking for which Users frequently answer the questions\n",
    "answers_data.OwnerUserId.value_counts()"
   ]
  },
  {
   "cell_type": "code",
   "execution_count": 72,
   "metadata": {
    "colab": {
     "base_uri": "https://localhost:8080/"
    },
    "id": "UpNvaIA1CoPG",
    "outputId": "de735468-2f7e-46be-a34b-32722109ee3d"
   },
   "outputs": [
    {
     "data": {
      "text/plain": [
       "406760      384\n",
       "38210       300\n",
       "23930       118\n",
       "100420       96\n",
       "40480        69\n",
       "           ... \n",
       "37316970      1\n",
       "12155240      1\n",
       "5835110       1\n",
       "38690550      1\n",
       "10485760      1\n",
       "Name: ParentId, Length: 1099938, dtype: int64"
      ]
     },
     "execution_count": 72,
     "metadata": {},
     "output_type": "execute_result"
    }
   ],
   "source": [
    "#Checking for how are the answers given with respect to questions \n",
    "answers_data.ParentId.value_counts()"
   ]
  },
  {
   "cell_type": "code",
   "execution_count": 73,
   "metadata": {
    "colab": {
     "base_uri": "https://localhost:8080/"
    },
    "id": "utzXxs9NDSXd",
    "outputId": "81372595-950c-4e08-c736-0f91537c3e6d"
   },
   "outputs": [
    {
     "data": {
      "text/plain": [
       "<matplotlib.axes._subplots.AxesSubplot at 0x7ff18bcbf790>"
      ]
     },
     "execution_count": 73,
     "metadata": {},
     "output_type": "execute_result"
    },
    {
     "data": {
      "image/png": "[encoded data removed]",
      "text/plain": [
       "<Figure size 432x288 with 1 Axes>"
      ]
     },
     "metadata": {
      "needs_background": "light"
     },
     "output_type": "display_data"
    }
   ],
   "source": [
    "#Lets draw the box plot for Score as well. But as stated for previous dataset we wont tweak it\n",
    "answers_data.Score.plot(kind='box')"
   ]
  },
  {
   "cell_type": "markdown",
   "metadata": {
    "id": "M7rAUa1nD94p"
   },
   "source": [
    "#### Tags Dataset"
   ]
  },
  {
   "cell_type": "code",
   "execution_count": 74,
   "metadata": {
    "colab": {
     "base_uri": "https://localhost:8080/"
    },
    "id": "uhGFxypLEAbo",
    "outputId": "e78694a4-74fa-4158-86e5-af1b5e10be1d"
   },
   "outputs": [
    {
     "data": {
      "text/plain": [
       "javascript      125188\n",
       "java            115212\n",
       "c#              101186\n",
       "php              98808\n",
       "android          90659\n",
       "                 ...  \n",
       "monetdblite          1\n",
       "meekro               1\n",
       "scitools             1\n",
       "gae-python27         1\n",
       "bpy                  1\n",
       "Name: Tag, Length: 37034, dtype: int64"
      ]
     },
     "execution_count": 74,
     "metadata": {},
     "output_type": "execute_result"
    }
   ],
   "source": [
    "tags_data.Tag.value_counts()"
   ]
  },
  {
   "cell_type": "markdown",
   "metadata": {
    "id": "R4ouacsBHOdh"
   },
   "source": [
    "#### Users Dataset"
   ]
  },
  {
   "cell_type": "code",
   "execution_count": 75,
   "metadata": {
    "colab": {
     "base_uri": "https://localhost:8080/"
    },
    "id": "i8_6cdNyKKHk",
    "outputId": "0c51059d-4f7a-49c0-ad16-c24448010fdd"
   },
   "outputs": [
    {
     "data": {
      "text/plain": [
       "count    4.654360e+05\n",
       "mean     2.400752e+02\n",
       "std      3.396519e+03\n",
       "min      0.000000e+00\n",
       "25%      1.200000e+01\n",
       "50%      4.500000e+01\n",
       "75%      1.440000e+02\n",
       "max      1.835157e+06\n",
       "Name: views, dtype: float64"
      ]
     },
     "execution_count": 75,
     "metadata": {},
     "output_type": "execute_result"
    }
   ],
   "source": [
    "users_data.views.describe()"
   ]
  },
  {
   "cell_type": "code",
   "execution_count": 76,
   "metadata": {
    "colab": {
     "base_uri": "https://localhost:8080/"
    },
    "id": "nZZquN9jKVOE",
    "outputId": "f50e1dc1-b58d-4978-d28a-e7d70c1071e0"
   },
   "outputs": [
    {
     "data": {
      "text/plain": [
       "count    465435.000000\n",
       "mean        236.132816\n",
       "std        2074.225277\n",
       "min           0.000000\n",
       "25%          12.000000\n",
       "50%          45.000000\n",
       "75%         144.000000\n",
       "max      496316.000000\n",
       "Name: views, dtype: float64"
      ]
     },
     "execution_count": 76,
     "metadata": {},
     "output_type": "execute_result"
    }
   ],
   "source": [
    "users_data_analysis = users_data[-(users_data['views']==1835157)]\n",
    "users_data_analysis.views.describe()"
   ]
  },
  {
   "cell_type": "code",
   "execution_count": 77,
   "metadata": {
    "colab": {
     "base_uri": "https://localhost:8080/",
     "height": 283
    },
    "id": "wRclivf9HQp1",
    "outputId": "21309b6b-5fef-4749-ace8-9901c99802ad"
   },
   "outputs": [
    {
     "data": {
      "text/plain": [
       "<matplotlib.axes._subplots.AxesSubplot at 0x7ff18ac6e110>"
      ]
     },
     "execution_count": 77,
     "metadata": {},
     "output_type": "execute_result"
    },
    {
     "data": {
      "image/png": "[encoded data removed]",
      "text/plain": [
       "<Figure size 432x288 with 1 Axes>"
      ]
     },
     "metadata": {
      "needs_background": "light"
     },
     "output_type": "display_data"
    }
   ],
   "source": [
    "users_data_analysis.reputation.plot(kind = 'box')"
   ]
  },
  {
   "cell_type": "code",
   "execution_count": 78,
   "metadata": {
    "colab": {
     "base_uri": "https://localhost:8080/",
     "height": 283
    },
    "id": "7ysg1zO4HYGu",
    "outputId": "6ea5e61c-c63a-488c-b2fe-65c8896248c4"
   },
   "outputs": [
    {
     "data": {
      "text/plain": [
       "<matplotlib.axes._subplots.AxesSubplot at 0x7ff183159790>"
      ]
     },
     "execution_count": 78,
     "metadata": {},
     "output_type": "execute_result"
    },
    {
     "data": {
      "image/png": "[encoded data removed]",
      "text/plain": [
       "<Figure size 432x288 with 1 Axes>"
      ]
     },
     "metadata": {
      "needs_background": "light"
     },
     "output_type": "display_data"
    }
   ],
   "source": [
    "users_data_analysis.views.plot(kind = 'box')"
   ]
  },
  {
   "cell_type": "code",
   "execution_count": 79,
   "metadata": {
    "colab": {
     "base_uri": "https://localhost:8080/",
     "height": 334
    },
    "id": "X5P8Fc_EHjmP",
    "outputId": "7d1991a0-f425-4e43-d3f5-aacfda402ec7"
   },
   "outputs": [
    {
     "data": {
      "image/png": "[encoded data removed]",
      "text/plain": [
       "<Figure size 1440x360 with 1 Axes>"
      ]
     },
     "metadata": {
      "needs_background": "light"
     },
     "output_type": "display_data"
    }
   ],
   "source": [
    "#Scatter plot between Views and Reputation\n",
    "plt.figure(figsize=(20,5))\n",
    "plt.scatter(x=users_data_analysis['views'], y = users_data_analysis['reputation'] )\n",
    "plt.ylabel('Reputation')\n",
    "plt.xlabel('Views')\n",
    "plt.show()"
   ]
  },
  {
   "cell_type": "code",
   "execution_count": 80,
   "metadata": {
    "id": "Tm9WjBXONpGE"
   },
   "outputs": [],
   "source": [
    "#There is a general trend seen above. As the views are increasing, the reputation of the user increases"
   ]
  },
  {
   "cell_type": "code",
   "execution_count": 81,
   "metadata": {
    "colab": {
     "base_uri": "https://localhost:8080/",
     "height": 334
    },
    "id": "SFI0ywy6Ifp-",
    "outputId": "ba1be30f-3cce-47f6-f2c3-b77e49e104d1"
   },
   "outputs": [
    {
     "data": {
      "image/png": "[encoded data removed]",
      "text/plain": [
       "<Figure size 1440x360 with 1 Axes>"
      ]
     },
     "metadata": {
      "needs_background": "light"
     },
     "output_type": "display_data"
    }
   ],
   "source": [
    "#Scatter plot between Upvotes and Views\n",
    "plt.figure(figsize=(20,5))\n",
    "plt.scatter(x=users_data_analysis['views'], y = users_data_analysis['up_votes'])\n",
    "plt.ylabel('Up Votes')\n",
    "plt.xlabel('Views')\n",
    "plt.show()"
   ]
  },
  {
   "cell_type": "code",
   "execution_count": 82,
   "metadata": {
    "colab": {
     "base_uri": "https://localhost:8080/",
     "height": 334
    },
    "id": "eVPXUkAqJMHF",
    "outputId": "c01ea007-7866-449c-98c1-872b47aa3b2d"
   },
   "outputs": [
    {
     "data": {
      "image/png": "[encoded data removed]",
      "text/plain": [
       "<Figure size 1440x360 with 1 Axes>"
      ]
     },
     "metadata": {
      "needs_background": "light"
     },
     "output_type": "display_data"
    }
   ],
   "source": [
    "#Scatter plot between Downvotes and Views\n",
    "plt.figure(figsize=(20,5))\n",
    "plt.scatter(x=users_data_analysis['views'],y=users_data_analysis['down_votes'])\n",
    "plt.ylabel('Down Votes')\n",
    "plt.xlabel('Views')\n",
    "plt.show()"
   ]
  },
  {
   "cell_type": "markdown",
   "metadata": {
    "id": "ahOwd0cSQL_V"
   },
   "source": [
    "### Answering the questions (Conclusion)"
   ]
  },
  {
   "cell_type": "markdown",
   "metadata": {
    "id": "hcsMN43wQV4g"
   },
   "source": [
    "#### Question 1: When a user raises a question with a data science tag ('python', 'r', 'matlab', 'sas', 'excel', 'sql'), then Stack Overflow sends the notification to the relevant users."
   ]
  },
  {
   "cell_type": "markdown",
   "metadata": {
    "id": "CkMrvafGRHs-"
   },
   "source": [
    "Solution:\n",
    "\n",
    "1. Collect the question ID by filtering out the tags from the tags dataset\n",
    "2. Filter the above question ID (Parent ID) in answers dataset and get all the corresponding userID.\n",
    "3. Using these user IDs, get the user name from the Users dataset\n",
    "\n",
    "Hence we will get all the username who answer the questions (relevant users) with data science tag"
   ]
  },
  {
   "cell_type": "code",
   "execution_count": 83,
   "metadata": {
    "id": "D8FOam7vR-q3"
   },
   "outputs": [],
   "source": [
    "# 1. Filter the Tags data set with Tags column = 'python' or 'r' or 'matlab' or 'sas' or 'excel' or 'sql'\n",
    "\n",
    "data_science_tag = ['python','r','matlab','sas','excel','sql']\n",
    "data_science_question_id = tags_data[tags_data.Tag.isin(data_science_tag)].Id.tolist()"
   ]
  },
  {
   "cell_type": "code",
   "execution_count": 84,
   "metadata": {
    "id": "VVMJ71LuWuuL"
   },
   "outputs": [],
   "source": [
    "# 2. Filter the above collected question ID from answers dataset and get the corresponding userID who have answered these questions\n",
    "\n",
    "data_science_question_users = answers_data[answers_data.ParentId.isin(data_science_question_id)]['OwnerUserId'].astype('int64').tolist()"
   ]
  },
  {
   "cell_type": "code",
   "execution_count": 85,
   "metadata": {
    "colab": {
     "base_uri": "https://localhost:8080/",
     "height": 206
    },
    "id": "229C0c7AcyHC",
    "outputId": "030a0d48-a3f5-4584-a5ed-c984a5100cb8"
   },
   "outputs": [
    {
     "data": {
      "text/html": [
       "<div>\n",
       "<style scoped>\n",
       "    .dataframe tbody tr th:only-of-type {\n",
       "        vertical-align: middle;\n",
       "    }\n",
       "\n",
       "    .dataframe tbody tr th {\n",
       "        vertical-align: top;\n",
       "    }\n",
       "\n",
       "    .dataframe thead th {\n",
       "        text-align: right;\n",
       "    }\n",
       "</style>\n",
       "<table border=\"1\" class=\"dataframe\">\n",
       "  <thead>\n",
       "    <tr style=\"text-align: right;\">\n",
       "      <th></th>\n",
       "      <th>id</th>\n",
       "      <th>display_name</th>\n",
       "    </tr>\n",
       "  </thead>\n",
       "  <tbody>\n",
       "    <tr>\n",
       "      <th>5956</th>\n",
       "      <td>22656</td>\n",
       "      <td>Jon Skeet</td>\n",
       "    </tr>\n",
       "    <tr>\n",
       "      <th>1846</th>\n",
       "      <td>6309</td>\n",
       "      <td>VonC</td>\n",
       "    </tr>\n",
       "    <tr>\n",
       "      <th>3609</th>\n",
       "      <td>157882</td>\n",
       "      <td>BalusC</td>\n",
       "    </tr>\n",
       "    <tr>\n",
       "      <th>11731</th>\n",
       "      <td>29407</td>\n",
       "      <td>Darin Dimitrov</td>\n",
       "    </tr>\n",
       "    <tr>\n",
       "      <th>163643</th>\n",
       "      <td>1144035</td>\n",
       "      <td>Gordon Linoff</td>\n",
       "    </tr>\n",
       "  </tbody>\n",
       "</table>\n",
       "</div>"
      ],
      "text/plain": [
       "             id    display_name\n",
       "5956      22656       Jon Skeet\n",
       "1846       6309            VonC\n",
       "3609     157882          BalusC\n",
       "11731     29407  Darin Dimitrov\n",
       "163643  1144035   Gordon Linoff"
      ]
     },
     "execution_count": 85,
     "metadata": {},
     "output_type": "execute_result"
    }
   ],
   "source": [
    "# 3. Take out the names of the people from the above collected UserID from the users dataset\n",
    "# Lets also sort by reputation, so that we can send notification to the user with more reputation (and answering data science question) first\n",
    "\n",
    "final_output_q1 = users_data[users_data.id.isin(data_science_question_users)].sort_values(by=['reputation'],ascending = False).filter(['id','display_name'])\n",
    "final_output_q1.head()"
   ]
  },
  {
   "cell_type": "code",
   "execution_count": 86,
   "metadata": {
    "colab": {
     "base_uri": "https://localhost:8080/",
     "height": 36
    },
    "id": "VhkPYtVKhajV",
    "outputId": "091d7c0b-3a40-4da3-b68e-62d9f5c3b8ca"
   },
   "outputs": [
    {
     "data": {
      "text/plain": [
       "'Jon Skeet; VonC; BalusC; Darin Dimitrov; Gordon Linoff'"
      ]
     },
     "execution_count": 86,
     "metadata": {},
     "output_type": "execute_result"
    }
   ],
   "source": [
    "#Lets seperate out the names from above which can be used to store in the RDS Database. (Lets only consider top 5 for now)\n",
    "output_names = '; '.join(final_output_q1.display_name.tolist()[0:5])\n",
    "output_names"
   ]
  },
  {
   "cell_type": "code",
   "execution_count": 87,
   "metadata": {},
   "outputs": [],
   "source": [
    "#Storing it in dB\n",
    "sql = \"INSERT INTO stackoverflow(Question,Answer) VALUES(%s,%s)\"\n",
    "val  = (\"Question 1\", output_names)\n",
    "cur.execute(sql,val)"
   ]
  },
  {
   "cell_type": "code",
   "execution_count": 88,
   "metadata": {
    "colab": {
     "base_uri": "https://localhost:8080/"
    },
    "id": "WdavKedYkmWy",
    "outputId": "f9115e91-b0fb-4fbd-8c8d-cc4684953913"
   },
   "outputs": [
    {
     "data": {
      "text/plain": [
       "[22656, 6309, 157882, 29407, 1144035]"
      ]
     },
     "execution_count": 88,
     "metadata": {},
     "output_type": "execute_result"
    }
   ],
   "source": [
    "#Lets take the ids of the above Person names as well, as Names can be same but User Id will be unique\n",
    "output_ids = final_output_q1.id.tolist()[0:5]\n",
    "output_ids"
   ]
  },
  {
   "cell_type": "markdown",
   "metadata": {
    "id": "UIHnjUQ7j-iI"
   },
   "source": [
    "#### Question 2: When a user provides a data science tag ('python', 'r', 'matlab', 'sas', 'excel', 'sql') to their question, then Stack Overflow should come up with the expected approximate time to get it answered."
   ]
  },
  {
   "cell_type": "markdown",
   "metadata": {
    "id": "P9Z9DB-Fk4n4"
   },
   "source": [
    "Solution:\n",
    "\n",
    "1. Filter the tags data set based on the tags of data science and get the question id\n",
    "2. Filter the questions dataset based on the above collected filtered data and note the creation time\n",
    "3. For the same question id, find the id in answers dataset and note the answer creation date (take the first creation date if multiple answers present for a question).\n",
    "4. Calculate the difference of creation time of question and creation time of answers for that question, for each question id. And take the mean of time for all the question id, which will give the approx time to get the question answered"
   ]
  },
  {
   "cell_type": "code",
   "execution_count": 89,
   "metadata": {
    "colab": {
     "base_uri": "https://localhost:8080/"
    },
    "id": "1fJdTiXzl2Jy",
    "outputId": "bb16d7d7-54c2-43b3-96e9-89848fed118b"
   },
   "outputs": [
    {
     "data": {
      "text/plain": [
       "133660"
      ]
     },
     "execution_count": 89,
     "metadata": {},
     "output_type": "execute_result"
    }
   ],
   "source": [
    "# 1. Filter the Tags data set with Tags column = 'python' or 'r' or 'matlab' or 'sas' or 'excel' or 'sql'\n",
    "\n",
    "data_science_tag = ['python','r','matlab','sas','excel','sql']\n",
    "data_science_question_id = tags_data[tags_data.Tag.isin(data_science_tag)].Id.tolist()\n",
    "len(data_science_question_id)"
   ]
  },
  {
   "cell_type": "code",
   "execution_count": 90,
   "metadata": {
    "colab": {
     "base_uri": "https://localhost:8080/",
     "height": 424
    },
    "id": "pIZQaEl4n-xU",
    "outputId": "637bd854-5882-4010-e369-69a7ab9da0d5"
   },
   "outputs": [
    {
     "data": {
      "text/html": [
       "<div>\n",
       "<style scoped>\n",
       "    .dataframe tbody tr th:only-of-type {\n",
       "        vertical-align: middle;\n",
       "    }\n",
       "\n",
       "    .dataframe tbody tr th {\n",
       "        vertical-align: top;\n",
       "    }\n",
       "\n",
       "    .dataframe thead th {\n",
       "        text-align: right;\n",
       "    }\n",
       "</style>\n",
       "<table border=\"1\" class=\"dataframe\">\n",
       "  <thead>\n",
       "    <tr style=\"text-align: right;\">\n",
       "      <th></th>\n",
       "      <th>CreationDate</th>\n",
       "      <th>Id</th>\n",
       "    </tr>\n",
       "  </thead>\n",
       "  <tbody>\n",
       "    <tr>\n",
       "      <th>2</th>\n",
       "      <td>2008-08-01 15:50:08+00:00</td>\n",
       "      <td>120</td>\n",
       "    </tr>\n",
       "    <tr>\n",
       "      <th>22</th>\n",
       "      <td>2008-08-05 06:39:31+00:00</td>\n",
       "      <td>1970</td>\n",
       "    </tr>\n",
       "    <tr>\n",
       "      <th>23</th>\n",
       "      <td>2008-08-05 11:49:11+00:00</td>\n",
       "      <td>2120</td>\n",
       "    </tr>\n",
       "    <tr>\n",
       "      <th>33</th>\n",
       "      <td>2008-08-05 20:57:00+00:00</td>\n",
       "      <td>2840</td>\n",
       "    </tr>\n",
       "    <tr>\n",
       "      <th>46</th>\n",
       "      <td>2008-08-06 23:19:50+00:00</td>\n",
       "      <td>4110</td>\n",
       "    </tr>\n",
       "    <tr>\n",
       "      <th>...</th>\n",
       "      <td>...</td>\n",
       "      <td>...</td>\n",
       "    </tr>\n",
       "    <tr>\n",
       "      <th>1264184</th>\n",
       "      <td>2016-10-19 22:28:58+00:00</td>\n",
       "      <td>40142550</td>\n",
       "    </tr>\n",
       "    <tr>\n",
       "      <th>1264187</th>\n",
       "      <td>2016-10-19 22:33:00+00:00</td>\n",
       "      <td>40142600</td>\n",
       "    </tr>\n",
       "    <tr>\n",
       "      <th>1264196</th>\n",
       "      <td>2016-10-19 22:58:38+00:00</td>\n",
       "      <td>40142840</td>\n",
       "    </tr>\n",
       "    <tr>\n",
       "      <th>1264197</th>\n",
       "      <td>2016-10-19 23:01:07+00:00</td>\n",
       "      <td>40142860</td>\n",
       "    </tr>\n",
       "    <tr>\n",
       "      <th>1264210</th>\n",
       "      <td>2016-10-19 23:36:01+00:00</td>\n",
       "      <td>40143190</td>\n",
       "    </tr>\n",
       "  </tbody>\n",
       "</table>\n",
       "<p>130710 rows × 2 columns</p>\n",
       "</div>"
      ],
      "text/plain": [
       "                     CreationDate        Id\n",
       "2       2008-08-01 15:50:08+00:00       120\n",
       "22      2008-08-05 06:39:31+00:00      1970\n",
       "23      2008-08-05 11:49:11+00:00      2120\n",
       "33      2008-08-05 20:57:00+00:00      2840\n",
       "46      2008-08-06 23:19:50+00:00      4110\n",
       "...                           ...       ...\n",
       "1264184 2016-10-19 22:28:58+00:00  40142550\n",
       "1264187 2016-10-19 22:33:00+00:00  40142600\n",
       "1264196 2016-10-19 22:58:38+00:00  40142840\n",
       "1264197 2016-10-19 23:01:07+00:00  40142860\n",
       "1264210 2016-10-19 23:36:01+00:00  40143190\n",
       "\n",
       "[130710 rows x 2 columns]"
      ]
     },
     "execution_count": 90,
     "metadata": {},
     "output_type": "execute_result"
    }
   ],
   "source": [
    "# 2. Filtering the questions dataset for the above collected ID\n",
    "\n",
    "question_2_filtered_data = questions_data[questions_data.Id.isin(data_science_question_id)].filter(['CreationDate','Id'])\n",
    "question_2_filtered_data"
   ]
  },
  {
   "cell_type": "code",
   "execution_count": 91,
   "metadata": {
    "colab": {
     "base_uri": "https://localhost:8080/"
    },
    "id": "cnwDCYVgoXap",
    "outputId": "38821639-f0eb-45b4-f9a7-d68d4d4da327"
   },
   "outputs": [
    {
     "data": {
      "text/plain": [
       "ParentId\n",
       "120        2008-09-23 22:41:11+00:00\n",
       "1970       2008-08-05 06:43:30+00:00\n",
       "2120       2008-08-05 14:26:41+00:00\n",
       "2840       2008-08-05 20:59:21+00:00\n",
       "4110       2008-08-06 23:29:21+00:00\n",
       "                      ...           \n",
       "40141660   2016-10-19 21:20:36+00:00\n",
       "40142380   2016-10-19 22:26:55+00:00\n",
       "40142550   2016-10-19 22:38:05+00:00\n",
       "40142860   2016-10-19 23:14:50+00:00\n",
       "40143190   2016-10-19 23:38:17+00:00\n",
       "Name: CreationDate, Length: 117248, dtype: datetime64[ns, UTC]"
      ]
     },
     "execution_count": 91,
     "metadata": {},
     "output_type": "execute_result"
    }
   ],
   "source": [
    "#Assuming the fastest reply to a question and not the best answer (Max Score) to a question\n",
    "answers_data[answers_data.ParentId.isin(data_science_question_id)].groupby('ParentId')['CreationDate'].min()"
   ]
  },
  {
   "cell_type": "code",
   "execution_count": 92,
   "metadata": {
    "colab": {
     "base_uri": "https://localhost:8080/",
     "height": 424
    },
    "id": "NVMC5RCxCJfo",
    "outputId": "01909e7b-4c7e-4def-e6bb-b1fd44cc0303"
   },
   "outputs": [
    {
     "data": {
      "text/html": [
       "<div>\n",
       "<style scoped>\n",
       "    .dataframe tbody tr th:only-of-type {\n",
       "        vertical-align: middle;\n",
       "    }\n",
       "\n",
       "    .dataframe tbody tr th {\n",
       "        vertical-align: top;\n",
       "    }\n",
       "\n",
       "    .dataframe thead th {\n",
       "        text-align: right;\n",
       "    }\n",
       "</style>\n",
       "<table border=\"1\" class=\"dataframe\">\n",
       "  <thead>\n",
       "    <tr style=\"text-align: right;\">\n",
       "      <th></th>\n",
       "      <th>CreationDate_x</th>\n",
       "      <th>Id</th>\n",
       "      <th>CreationDate_y</th>\n",
       "    </tr>\n",
       "  </thead>\n",
       "  <tbody>\n",
       "    <tr>\n",
       "      <th>0</th>\n",
       "      <td>2008-08-01 15:50:08+00:00</td>\n",
       "      <td>120</td>\n",
       "      <td>2008-09-23 22:41:11+00:00</td>\n",
       "    </tr>\n",
       "    <tr>\n",
       "      <th>1</th>\n",
       "      <td>2008-08-05 06:39:31+00:00</td>\n",
       "      <td>1970</td>\n",
       "      <td>2008-08-05 06:43:30+00:00</td>\n",
       "    </tr>\n",
       "    <tr>\n",
       "      <th>2</th>\n",
       "      <td>2008-08-05 11:49:11+00:00</td>\n",
       "      <td>2120</td>\n",
       "      <td>2008-08-05 14:26:41+00:00</td>\n",
       "    </tr>\n",
       "    <tr>\n",
       "      <th>3</th>\n",
       "      <td>2008-08-05 20:57:00+00:00</td>\n",
       "      <td>2840</td>\n",
       "      <td>2008-08-05 20:59:21+00:00</td>\n",
       "    </tr>\n",
       "    <tr>\n",
       "      <th>4</th>\n",
       "      <td>2008-08-06 23:19:50+00:00</td>\n",
       "      <td>4110</td>\n",
       "      <td>2008-08-06 23:29:21+00:00</td>\n",
       "    </tr>\n",
       "    <tr>\n",
       "      <th>...</th>\n",
       "      <td>...</td>\n",
       "      <td>...</td>\n",
       "      <td>...</td>\n",
       "    </tr>\n",
       "    <tr>\n",
       "      <th>130705</th>\n",
       "      <td>2016-10-19 22:28:58+00:00</td>\n",
       "      <td>40142550</td>\n",
       "      <td>2016-10-19 22:38:05+00:00</td>\n",
       "    </tr>\n",
       "    <tr>\n",
       "      <th>130706</th>\n",
       "      <td>2016-10-19 22:33:00+00:00</td>\n",
       "      <td>40142600</td>\n",
       "      <td>NaT</td>\n",
       "    </tr>\n",
       "    <tr>\n",
       "      <th>130707</th>\n",
       "      <td>2016-10-19 22:58:38+00:00</td>\n",
       "      <td>40142840</td>\n",
       "      <td>NaT</td>\n",
       "    </tr>\n",
       "    <tr>\n",
       "      <th>130708</th>\n",
       "      <td>2016-10-19 23:01:07+00:00</td>\n",
       "      <td>40142860</td>\n",
       "      <td>2016-10-19 23:14:50+00:00</td>\n",
       "    </tr>\n",
       "    <tr>\n",
       "      <th>130709</th>\n",
       "      <td>2016-10-19 23:36:01+00:00</td>\n",
       "      <td>40143190</td>\n",
       "      <td>2016-10-19 23:38:17+00:00</td>\n",
       "    </tr>\n",
       "  </tbody>\n",
       "</table>\n",
       "<p>130710 rows × 3 columns</p>\n",
       "</div>"
      ],
      "text/plain": [
       "                  CreationDate_x        Id            CreationDate_y\n",
       "0      2008-08-01 15:50:08+00:00       120 2008-09-23 22:41:11+00:00\n",
       "1      2008-08-05 06:39:31+00:00      1970 2008-08-05 06:43:30+00:00\n",
       "2      2008-08-05 11:49:11+00:00      2120 2008-08-05 14:26:41+00:00\n",
       "3      2008-08-05 20:57:00+00:00      2840 2008-08-05 20:59:21+00:00\n",
       "4      2008-08-06 23:19:50+00:00      4110 2008-08-06 23:29:21+00:00\n",
       "...                          ...       ...                       ...\n",
       "130705 2016-10-19 22:28:58+00:00  40142550 2016-10-19 22:38:05+00:00\n",
       "130706 2016-10-19 22:33:00+00:00  40142600                       NaT\n",
       "130707 2016-10-19 22:58:38+00:00  40142840                       NaT\n",
       "130708 2016-10-19 23:01:07+00:00  40142860 2016-10-19 23:14:50+00:00\n",
       "130709 2016-10-19 23:36:01+00:00  40143190 2016-10-19 23:38:17+00:00\n",
       "\n",
       "[130710 rows x 3 columns]"
      ]
     },
     "execution_count": 92,
     "metadata": {},
     "output_type": "execute_result"
    }
   ],
   "source": [
    "#Creating a data frame with a Question Id, its question creation date and fastest answer creation date\n",
    "question_2_filtered_data_output = pd.merge(question_2_filtered_data,answers_data[answers_data.ParentId.isin(data_science_question_id)].groupby('ParentId')['CreationDate'].min(), how = 'left',left_on = 'Id', right_on = 'ParentId')\n",
    "question_2_filtered_data_output"
   ]
  },
  {
   "cell_type": "code",
   "execution_count": 93,
   "metadata": {
    "colab": {
     "base_uri": "https://localhost:8080/"
    },
    "id": "CTJ8ka3ZXxJr",
    "outputId": "63a9df62-0cde-4baf-c786-7b79cb741b00"
   },
   "outputs": [
    {
     "data": {
      "text/plain": [
       "CreationDate_x        0\n",
       "Id                    0\n",
       "CreationDate_y    14751\n",
       "dtype: int64"
      ]
     },
     "execution_count": 93,
     "metadata": {},
     "output_type": "execute_result"
    }
   ],
   "source": [
    "question_2_filtered_data_output.isnull().sum()"
   ]
  },
  {
   "cell_type": "code",
   "execution_count": 94,
   "metadata": {
    "colab": {
     "base_uri": "https://localhost:8080/",
     "height": 424
    },
    "id": "c_UxiZ6BYWJ1",
    "outputId": "825f858d-d2a7-4838-bb76-d784ffe99664"
   },
   "outputs": [
    {
     "data": {
      "text/html": [
       "<div>\n",
       "<style scoped>\n",
       "    .dataframe tbody tr th:only-of-type {\n",
       "        vertical-align: middle;\n",
       "    }\n",
       "\n",
       "    .dataframe tbody tr th {\n",
       "        vertical-align: top;\n",
       "    }\n",
       "\n",
       "    .dataframe thead th {\n",
       "        text-align: right;\n",
       "    }\n",
       "</style>\n",
       "<table border=\"1\" class=\"dataframe\">\n",
       "  <thead>\n",
       "    <tr style=\"text-align: right;\">\n",
       "      <th></th>\n",
       "      <th>CreationDate_x</th>\n",
       "      <th>Id</th>\n",
       "      <th>CreationDate_y</th>\n",
       "    </tr>\n",
       "  </thead>\n",
       "  <tbody>\n",
       "    <tr>\n",
       "      <th>0</th>\n",
       "      <td>2008-08-01 15:50:08+00:00</td>\n",
       "      <td>120</td>\n",
       "      <td>2008-09-23 22:41:11+00:00</td>\n",
       "    </tr>\n",
       "    <tr>\n",
       "      <th>1</th>\n",
       "      <td>2008-08-05 06:39:31+00:00</td>\n",
       "      <td>1970</td>\n",
       "      <td>2008-08-05 06:43:30+00:00</td>\n",
       "    </tr>\n",
       "    <tr>\n",
       "      <th>2</th>\n",
       "      <td>2008-08-05 11:49:11+00:00</td>\n",
       "      <td>2120</td>\n",
       "      <td>2008-08-05 14:26:41+00:00</td>\n",
       "    </tr>\n",
       "    <tr>\n",
       "      <th>3</th>\n",
       "      <td>2008-08-05 20:57:00+00:00</td>\n",
       "      <td>2840</td>\n",
       "      <td>2008-08-05 20:59:21+00:00</td>\n",
       "    </tr>\n",
       "    <tr>\n",
       "      <th>4</th>\n",
       "      <td>2008-08-06 23:19:50+00:00</td>\n",
       "      <td>4110</td>\n",
       "      <td>2008-08-06 23:29:21+00:00</td>\n",
       "    </tr>\n",
       "    <tr>\n",
       "      <th>...</th>\n",
       "      <td>...</td>\n",
       "      <td>...</td>\n",
       "      <td>...</td>\n",
       "    </tr>\n",
       "    <tr>\n",
       "      <th>130701</th>\n",
       "      <td>2016-10-19 21:16:09+00:00</td>\n",
       "      <td>40141660</td>\n",
       "      <td>2016-10-19 21:20:36+00:00</td>\n",
       "    </tr>\n",
       "    <tr>\n",
       "      <th>130704</th>\n",
       "      <td>2016-10-19 22:13:40+00:00</td>\n",
       "      <td>40142380</td>\n",
       "      <td>2016-10-19 22:26:55+00:00</td>\n",
       "    </tr>\n",
       "    <tr>\n",
       "      <th>130705</th>\n",
       "      <td>2016-10-19 22:28:58+00:00</td>\n",
       "      <td>40142550</td>\n",
       "      <td>2016-10-19 22:38:05+00:00</td>\n",
       "    </tr>\n",
       "    <tr>\n",
       "      <th>130708</th>\n",
       "      <td>2016-10-19 23:01:07+00:00</td>\n",
       "      <td>40142860</td>\n",
       "      <td>2016-10-19 23:14:50+00:00</td>\n",
       "    </tr>\n",
       "    <tr>\n",
       "      <th>130709</th>\n",
       "      <td>2016-10-19 23:36:01+00:00</td>\n",
       "      <td>40143190</td>\n",
       "      <td>2016-10-19 23:38:17+00:00</td>\n",
       "    </tr>\n",
       "  </tbody>\n",
       "</table>\n",
       "<p>115959 rows × 3 columns</p>\n",
       "</div>"
      ],
      "text/plain": [
       "                  CreationDate_x        Id            CreationDate_y\n",
       "0      2008-08-01 15:50:08+00:00       120 2008-09-23 22:41:11+00:00\n",
       "1      2008-08-05 06:39:31+00:00      1970 2008-08-05 06:43:30+00:00\n",
       "2      2008-08-05 11:49:11+00:00      2120 2008-08-05 14:26:41+00:00\n",
       "3      2008-08-05 20:57:00+00:00      2840 2008-08-05 20:59:21+00:00\n",
       "4      2008-08-06 23:19:50+00:00      4110 2008-08-06 23:29:21+00:00\n",
       "...                          ...       ...                       ...\n",
       "130701 2016-10-19 21:16:09+00:00  40141660 2016-10-19 21:20:36+00:00\n",
       "130704 2016-10-19 22:13:40+00:00  40142380 2016-10-19 22:26:55+00:00\n",
       "130705 2016-10-19 22:28:58+00:00  40142550 2016-10-19 22:38:05+00:00\n",
       "130708 2016-10-19 23:01:07+00:00  40142860 2016-10-19 23:14:50+00:00\n",
       "130709 2016-10-19 23:36:01+00:00  40143190 2016-10-19 23:38:17+00:00\n",
       "\n",
       "[115959 rows x 3 columns]"
      ]
     },
     "execution_count": 94,
     "metadata": {},
     "output_type": "execute_result"
    }
   ],
   "source": [
    "#Creation_x represents the question creation date and Creation_y represents its corresponding answer creation date.\n",
    "#So its clear that there are around 14751 questions whose answers are not available. Lets remove them\n",
    "\n",
    "question_2_filtered_data_output = question_2_filtered_data_output[-(question_2_filtered_data_output.CreationDate_y.isnull())]\n",
    "question_2_filtered_data_output"
   ]
  },
  {
   "cell_type": "code",
   "execution_count": 95,
   "metadata": {
    "colab": {
     "base_uri": "https://localhost:8080/",
     "height": 533
    },
    "id": "HTwbSifgZ1p1",
    "outputId": "5296e7aa-f64b-40a8-ba7a-55bd27e39242"
   },
   "outputs": [
    {
     "name": "stderr",
     "output_type": "stream",
     "text": [
      "/home/ec2-user/anaconda3/lib/python3.7/site-packages/ipykernel_launcher.py:3: SettingWithCopyWarning: \n",
      "A value is trying to be set on a copy of a slice from a DataFrame.\n",
      "Try using .loc[row_indexer,col_indexer] = value instead\n",
      "\n",
      "See the caveats in the documentation: https://pandas.pydata.org/pandas-docs/stable/user_guide/indexing.html#returning-a-view-versus-a-copy\n",
      "  This is separate from the ipykernel package so we can avoid doing imports until\n"
     ]
    },
    {
     "data": {
      "text/html": [
       "<div>\n",
       "<style scoped>\n",
       "    .dataframe tbody tr th:only-of-type {\n",
       "        vertical-align: middle;\n",
       "    }\n",
       "\n",
       "    .dataframe tbody tr th {\n",
       "        vertical-align: top;\n",
       "    }\n",
       "\n",
       "    .dataframe thead th {\n",
       "        text-align: right;\n",
       "    }\n",
       "</style>\n",
       "<table border=\"1\" class=\"dataframe\">\n",
       "  <thead>\n",
       "    <tr style=\"text-align: right;\">\n",
       "      <th></th>\n",
       "      <th>CreationDate_x</th>\n",
       "      <th>Id</th>\n",
       "      <th>CreationDate_y</th>\n",
       "      <th>TimeDiff</th>\n",
       "    </tr>\n",
       "  </thead>\n",
       "  <tbody>\n",
       "    <tr>\n",
       "      <th>0</th>\n",
       "      <td>2008-08-01 15:50:08+00:00</td>\n",
       "      <td>120</td>\n",
       "      <td>2008-09-23 22:41:11+00:00</td>\n",
       "      <td>53 days 06:51:03</td>\n",
       "    </tr>\n",
       "    <tr>\n",
       "      <th>1</th>\n",
       "      <td>2008-08-05 06:39:31+00:00</td>\n",
       "      <td>1970</td>\n",
       "      <td>2008-08-05 06:43:30+00:00</td>\n",
       "      <td>0 days 00:03:59</td>\n",
       "    </tr>\n",
       "    <tr>\n",
       "      <th>2</th>\n",
       "      <td>2008-08-05 11:49:11+00:00</td>\n",
       "      <td>2120</td>\n",
       "      <td>2008-08-05 14:26:41+00:00</td>\n",
       "      <td>0 days 02:37:30</td>\n",
       "    </tr>\n",
       "    <tr>\n",
       "      <th>3</th>\n",
       "      <td>2008-08-05 20:57:00+00:00</td>\n",
       "      <td>2840</td>\n",
       "      <td>2008-08-05 20:59:21+00:00</td>\n",
       "      <td>0 days 00:02:21</td>\n",
       "    </tr>\n",
       "    <tr>\n",
       "      <th>4</th>\n",
       "      <td>2008-08-06 23:19:50+00:00</td>\n",
       "      <td>4110</td>\n",
       "      <td>2008-08-06 23:29:21+00:00</td>\n",
       "      <td>0 days 00:09:31</td>\n",
       "    </tr>\n",
       "    <tr>\n",
       "      <th>...</th>\n",
       "      <td>...</td>\n",
       "      <td>...</td>\n",
       "      <td>...</td>\n",
       "      <td>...</td>\n",
       "    </tr>\n",
       "    <tr>\n",
       "      <th>130701</th>\n",
       "      <td>2016-10-19 21:16:09+00:00</td>\n",
       "      <td>40141660</td>\n",
       "      <td>2016-10-19 21:20:36+00:00</td>\n",
       "      <td>0 days 00:04:27</td>\n",
       "    </tr>\n",
       "    <tr>\n",
       "      <th>130704</th>\n",
       "      <td>2016-10-19 22:13:40+00:00</td>\n",
       "      <td>40142380</td>\n",
       "      <td>2016-10-19 22:26:55+00:00</td>\n",
       "      <td>0 days 00:13:15</td>\n",
       "    </tr>\n",
       "    <tr>\n",
       "      <th>130705</th>\n",
       "      <td>2016-10-19 22:28:58+00:00</td>\n",
       "      <td>40142550</td>\n",
       "      <td>2016-10-19 22:38:05+00:00</td>\n",
       "      <td>0 days 00:09:07</td>\n",
       "    </tr>\n",
       "    <tr>\n",
       "      <th>130708</th>\n",
       "      <td>2016-10-19 23:01:07+00:00</td>\n",
       "      <td>40142860</td>\n",
       "      <td>2016-10-19 23:14:50+00:00</td>\n",
       "      <td>0 days 00:13:43</td>\n",
       "    </tr>\n",
       "    <tr>\n",
       "      <th>130709</th>\n",
       "      <td>2016-10-19 23:36:01+00:00</td>\n",
       "      <td>40143190</td>\n",
       "      <td>2016-10-19 23:38:17+00:00</td>\n",
       "      <td>0 days 00:02:16</td>\n",
       "    </tr>\n",
       "  </tbody>\n",
       "</table>\n",
       "<p>115959 rows × 4 columns</p>\n",
       "</div>"
      ],
      "text/plain": [
       "                  CreationDate_x        Id            CreationDate_y  \\\n",
       "0      2008-08-01 15:50:08+00:00       120 2008-09-23 22:41:11+00:00   \n",
       "1      2008-08-05 06:39:31+00:00      1970 2008-08-05 06:43:30+00:00   \n",
       "2      2008-08-05 11:49:11+00:00      2120 2008-08-05 14:26:41+00:00   \n",
       "3      2008-08-05 20:57:00+00:00      2840 2008-08-05 20:59:21+00:00   \n",
       "4      2008-08-06 23:19:50+00:00      4110 2008-08-06 23:29:21+00:00   \n",
       "...                          ...       ...                       ...   \n",
       "130701 2016-10-19 21:16:09+00:00  40141660 2016-10-19 21:20:36+00:00   \n",
       "130704 2016-10-19 22:13:40+00:00  40142380 2016-10-19 22:26:55+00:00   \n",
       "130705 2016-10-19 22:28:58+00:00  40142550 2016-10-19 22:38:05+00:00   \n",
       "130708 2016-10-19 23:01:07+00:00  40142860 2016-10-19 23:14:50+00:00   \n",
       "130709 2016-10-19 23:36:01+00:00  40143190 2016-10-19 23:38:17+00:00   \n",
       "\n",
       "               TimeDiff  \n",
       "0      53 days 06:51:03  \n",
       "1       0 days 00:03:59  \n",
       "2       0 days 02:37:30  \n",
       "3       0 days 00:02:21  \n",
       "4       0 days 00:09:31  \n",
       "...                 ...  \n",
       "130701  0 days 00:04:27  \n",
       "130704  0 days 00:13:15  \n",
       "130705  0 days 00:09:07  \n",
       "130708  0 days 00:13:43  \n",
       "130709  0 days 00:02:16  \n",
       "\n",
       "[115959 rows x 4 columns]"
      ]
     },
     "execution_count": 95,
     "metadata": {},
     "output_type": "execute_result"
    }
   ],
   "source": [
    "#Lets add a column of time difference and take average of that. That will be the approx time to answer the data science question\n",
    "\n",
    "question_2_filtered_data_output['TimeDiff'] = question_2_filtered_data_output['CreationDate_y']- question_2_filtered_data_output['CreationDate_x']\n",
    "question_2_filtered_data_output"
   ]
  },
  {
   "cell_type": "code",
   "execution_count": 96,
   "metadata": {
    "colab": {
     "base_uri": "https://localhost:8080/",
     "height": 206
    },
    "id": "FYgUieTSaYap",
    "outputId": "94e195a3-5aa8-41bf-d3a3-824fe91ece7c"
   },
   "outputs": [
    {
     "data": {
      "text/html": [
       "<div>\n",
       "<style scoped>\n",
       "    .dataframe tbody tr th:only-of-type {\n",
       "        vertical-align: middle;\n",
       "    }\n",
       "\n",
       "    .dataframe tbody tr th {\n",
       "        vertical-align: top;\n",
       "    }\n",
       "\n",
       "    .dataframe thead th {\n",
       "        text-align: right;\n",
       "    }\n",
       "</style>\n",
       "<table border=\"1\" class=\"dataframe\">\n",
       "  <thead>\n",
       "    <tr style=\"text-align: right;\">\n",
       "      <th></th>\n",
       "      <th>CreationDate_x</th>\n",
       "      <th>Id</th>\n",
       "      <th>CreationDate_y</th>\n",
       "      <th>TimeDiff</th>\n",
       "    </tr>\n",
       "  </thead>\n",
       "  <tbody>\n",
       "    <tr>\n",
       "      <th>2809</th>\n",
       "      <td>2009-12-14 23:09:35+00:00</td>\n",
       "      <td>1904170</td>\n",
       "      <td>2009-12-14 21:54:31+00:00</td>\n",
       "      <td>-1 days +22:44:56</td>\n",
       "    </tr>\n",
       "    <tr>\n",
       "      <th>8976</th>\n",
       "      <td>2011-02-03 09:44:03+00:00</td>\n",
       "      <td>4884480</td>\n",
       "      <td>2011-02-03 08:52:15+00:00</td>\n",
       "      <td>-1 days +23:08:12</td>\n",
       "    </tr>\n",
       "    <tr>\n",
       "      <th>9199</th>\n",
       "      <td>2011-02-14 04:13:55+00:00</td>\n",
       "      <td>4988770</td>\n",
       "      <td>2011-02-13 22:11:07+00:00</td>\n",
       "      <td>-1 days +17:57:12</td>\n",
       "    </tr>\n",
       "    <tr>\n",
       "      <th>19155</th>\n",
       "      <td>2012-03-11 03:44:36+00:00</td>\n",
       "      <td>9651970</td>\n",
       "      <td>2012-03-11 03:23:59+00:00</td>\n",
       "      <td>-1 days +23:39:23</td>\n",
       "    </tr>\n",
       "    <tr>\n",
       "      <th>32567</th>\n",
       "      <td>2013-02-13 18:48:57+00:00</td>\n",
       "      <td>14860770</td>\n",
       "      <td>2013-02-13 17:49:28+00:00</td>\n",
       "      <td>-1 days +23:00:31</td>\n",
       "    </tr>\n",
       "  </tbody>\n",
       "</table>\n",
       "</div>"
      ],
      "text/plain": [
       "                 CreationDate_x        Id            CreationDate_y  \\\n",
       "2809  2009-12-14 23:09:35+00:00   1904170 2009-12-14 21:54:31+00:00   \n",
       "8976  2011-02-03 09:44:03+00:00   4884480 2011-02-03 08:52:15+00:00   \n",
       "9199  2011-02-14 04:13:55+00:00   4988770 2011-02-13 22:11:07+00:00   \n",
       "19155 2012-03-11 03:44:36+00:00   9651970 2012-03-11 03:23:59+00:00   \n",
       "32567 2013-02-13 18:48:57+00:00  14860770 2013-02-13 17:49:28+00:00   \n",
       "\n",
       "               TimeDiff  \n",
       "2809  -1 days +22:44:56  \n",
       "8976  -1 days +23:08:12  \n",
       "9199  -1 days +17:57:12  \n",
       "19155 -1 days +23:39:23  \n",
       "32567 -1 days +23:00:31  "
      ]
     },
     "execution_count": 96,
     "metadata": {},
     "output_type": "execute_result"
    }
   ],
   "source": [
    "question_2_filtered_data_output[question_2_filtered_data_output.TimeDiff<'0 days 00:00:00']"
   ]
  },
  {
   "cell_type": "code",
   "execution_count": 97,
   "metadata": {
    "colab": {
     "base_uri": "https://localhost:8080/",
     "height": 424
    },
    "id": "g2XSgbBEbJEX",
    "outputId": "1db25b49-eb40-41e4-f2b8-cae738eb5575"
   },
   "outputs": [
    {
     "data": {
      "text/html": [
       "<div>\n",
       "<style scoped>\n",
       "    .dataframe tbody tr th:only-of-type {\n",
       "        vertical-align: middle;\n",
       "    }\n",
       "\n",
       "    .dataframe tbody tr th {\n",
       "        vertical-align: top;\n",
       "    }\n",
       "\n",
       "    .dataframe thead th {\n",
       "        text-align: right;\n",
       "    }\n",
       "</style>\n",
       "<table border=\"1\" class=\"dataframe\">\n",
       "  <thead>\n",
       "    <tr style=\"text-align: right;\">\n",
       "      <th></th>\n",
       "      <th>CreationDate_x</th>\n",
       "      <th>Id</th>\n",
       "      <th>CreationDate_y</th>\n",
       "      <th>TimeDiff</th>\n",
       "    </tr>\n",
       "  </thead>\n",
       "  <tbody>\n",
       "    <tr>\n",
       "      <th>0</th>\n",
       "      <td>2008-08-01 15:50:08+00:00</td>\n",
       "      <td>120</td>\n",
       "      <td>2008-09-23 22:41:11+00:00</td>\n",
       "      <td>53 days 06:51:03</td>\n",
       "    </tr>\n",
       "    <tr>\n",
       "      <th>1</th>\n",
       "      <td>2008-08-05 06:39:31+00:00</td>\n",
       "      <td>1970</td>\n",
       "      <td>2008-08-05 06:43:30+00:00</td>\n",
       "      <td>0 days 00:03:59</td>\n",
       "    </tr>\n",
       "    <tr>\n",
       "      <th>2</th>\n",
       "      <td>2008-08-05 11:49:11+00:00</td>\n",
       "      <td>2120</td>\n",
       "      <td>2008-08-05 14:26:41+00:00</td>\n",
       "      <td>0 days 02:37:30</td>\n",
       "    </tr>\n",
       "    <tr>\n",
       "      <th>3</th>\n",
       "      <td>2008-08-05 20:57:00+00:00</td>\n",
       "      <td>2840</td>\n",
       "      <td>2008-08-05 20:59:21+00:00</td>\n",
       "      <td>0 days 00:02:21</td>\n",
       "    </tr>\n",
       "    <tr>\n",
       "      <th>4</th>\n",
       "      <td>2008-08-06 23:19:50+00:00</td>\n",
       "      <td>4110</td>\n",
       "      <td>2008-08-06 23:29:21+00:00</td>\n",
       "      <td>0 days 00:09:31</td>\n",
       "    </tr>\n",
       "    <tr>\n",
       "      <th>...</th>\n",
       "      <td>...</td>\n",
       "      <td>...</td>\n",
       "      <td>...</td>\n",
       "      <td>...</td>\n",
       "    </tr>\n",
       "    <tr>\n",
       "      <th>130701</th>\n",
       "      <td>2016-10-19 21:16:09+00:00</td>\n",
       "      <td>40141660</td>\n",
       "      <td>2016-10-19 21:20:36+00:00</td>\n",
       "      <td>0 days 00:04:27</td>\n",
       "    </tr>\n",
       "    <tr>\n",
       "      <th>130704</th>\n",
       "      <td>2016-10-19 22:13:40+00:00</td>\n",
       "      <td>40142380</td>\n",
       "      <td>2016-10-19 22:26:55+00:00</td>\n",
       "      <td>0 days 00:13:15</td>\n",
       "    </tr>\n",
       "    <tr>\n",
       "      <th>130705</th>\n",
       "      <td>2016-10-19 22:28:58+00:00</td>\n",
       "      <td>40142550</td>\n",
       "      <td>2016-10-19 22:38:05+00:00</td>\n",
       "      <td>0 days 00:09:07</td>\n",
       "    </tr>\n",
       "    <tr>\n",
       "      <th>130708</th>\n",
       "      <td>2016-10-19 23:01:07+00:00</td>\n",
       "      <td>40142860</td>\n",
       "      <td>2016-10-19 23:14:50+00:00</td>\n",
       "      <td>0 days 00:13:43</td>\n",
       "    </tr>\n",
       "    <tr>\n",
       "      <th>130709</th>\n",
       "      <td>2016-10-19 23:36:01+00:00</td>\n",
       "      <td>40143190</td>\n",
       "      <td>2016-10-19 23:38:17+00:00</td>\n",
       "      <td>0 days 00:02:16</td>\n",
       "    </tr>\n",
       "  </tbody>\n",
       "</table>\n",
       "<p>115954 rows × 4 columns</p>\n",
       "</div>"
      ],
      "text/plain": [
       "                  CreationDate_x        Id            CreationDate_y  \\\n",
       "0      2008-08-01 15:50:08+00:00       120 2008-09-23 22:41:11+00:00   \n",
       "1      2008-08-05 06:39:31+00:00      1970 2008-08-05 06:43:30+00:00   \n",
       "2      2008-08-05 11:49:11+00:00      2120 2008-08-05 14:26:41+00:00   \n",
       "3      2008-08-05 20:57:00+00:00      2840 2008-08-05 20:59:21+00:00   \n",
       "4      2008-08-06 23:19:50+00:00      4110 2008-08-06 23:29:21+00:00   \n",
       "...                          ...       ...                       ...   \n",
       "130701 2016-10-19 21:16:09+00:00  40141660 2016-10-19 21:20:36+00:00   \n",
       "130704 2016-10-19 22:13:40+00:00  40142380 2016-10-19 22:26:55+00:00   \n",
       "130705 2016-10-19 22:28:58+00:00  40142550 2016-10-19 22:38:05+00:00   \n",
       "130708 2016-10-19 23:01:07+00:00  40142860 2016-10-19 23:14:50+00:00   \n",
       "130709 2016-10-19 23:36:01+00:00  40143190 2016-10-19 23:38:17+00:00   \n",
       "\n",
       "               TimeDiff  \n",
       "0      53 days 06:51:03  \n",
       "1       0 days 00:03:59  \n",
       "2       0 days 02:37:30  \n",
       "3       0 days 00:02:21  \n",
       "4       0 days 00:09:31  \n",
       "...                 ...  \n",
       "130701  0 days 00:04:27  \n",
       "130704  0 days 00:13:15  \n",
       "130705  0 days 00:09:07  \n",
       "130708  0 days 00:13:43  \n",
       "130709  0 days 00:02:16  \n",
       "\n",
       "[115954 rows x 4 columns]"
      ]
     },
     "execution_count": 97,
     "metadata": {},
     "output_type": "execute_result"
    }
   ],
   "source": [
    "#As its definelty not possible to create a answer before a question, the above data is invalid and lets remove them.\n",
    "\n",
    "question_2_filtered_data_output = question_2_filtered_data_output[-(question_2_filtered_data_output.TimeDiff<'0 days 00:00:00')]\n",
    "question_2_filtered_data_output"
   ]
  },
  {
   "cell_type": "markdown",
   "metadata": {
    "id": "Fqaudgeoetnz"
   },
   "source": [
    "Now lets take the average of TimeDiff column which will be the answer to the question.\n",
    "\n",
    "\n",
    "We could go here for median as well, but considering mean would help us take into consideration all the questions. Even those questions which took longer to answer. This would give a good idea to the user who is asking the question, and not giving any false hopes of getting question answered quicker (Which would happen if we take median)"
   ]
  },
  {
   "cell_type": "code",
   "execution_count": 98,
   "metadata": {
    "colab": {
     "base_uri": "https://localhost:8080/"
    },
    "id": "ZDjId6_jdmYP",
    "outputId": "182d60ba-3498-46e3-8ad9-17f468136e30"
   },
   "outputs": [
    {
     "data": {
      "text/plain": [
       "'7 days 11:17:15.364584'"
      ]
     },
     "execution_count": 98,
     "metadata": {},
     "output_type": "execute_result"
    }
   ],
   "source": [
    "mean_time = str(question_2_filtered_data_output.TimeDiff.mean())\n",
    "mean_time"
   ]
  },
  {
   "cell_type": "code",
   "execution_count": 99,
   "metadata": {},
   "outputs": [],
   "source": [
    "sql = \"INSERT INTO stackoverflow(Question,Answer) VALUES(%s,%s)\"\n",
    "val  = (\"Question 2\", mean_time)\n",
    "cur.execute(sql,val)"
   ]
  },
  {
   "cell_type": "markdown",
   "metadata": {
    "id": "s3XUrO0qgkbJ"
   },
   "source": [
    "#### Question 3: While a user raises a question, Stack Overflow wants to provide some suggestions to the users to get their queries answered quickly."
   ]
  },
  {
   "cell_type": "markdown",
   "metadata": {
    "id": "6iBOPbalg6lq"
   },
   "source": [
    "Solution:\n",
    "\n",
    "1. Get the tags which user has raised from the tags data set\n",
    "2. Filter out the top questions (Based on Score) and show its title to user.\n",
    "\n",
    "Lets assume that we are going ahead with a question raised by user in data science tags."
   ]
  },
  {
   "cell_type": "code",
   "execution_count": 100,
   "metadata": {
    "colab": {
     "base_uri": "https://localhost:8080/"
    },
    "id": "8BnutDy4hWQw",
    "outputId": "18400fd0-e1d8-4df9-f8b1-f0b63227531f"
   },
   "outputs": [
    {
     "data": {
      "text/plain": [
       "133660"
      ]
     },
     "execution_count": 100,
     "metadata": {},
     "output_type": "execute_result"
    }
   ],
   "source": [
    "data_science_tag = ['python','r','matlab','sas','excel','sql']\n",
    "data_science_question_id = tags_data[tags_data.Tag.isin(data_science_tag)].Id.tolist()\n",
    "len(data_science_question_id)"
   ]
  },
  {
   "cell_type": "code",
   "execution_count": 101,
   "metadata": {
    "colab": {
     "base_uri": "https://localhost:8080/"
    },
    "id": "E0gV08T3hku0",
    "outputId": "b8fcc166-90af-423f-af0f-f282b50f355d"
   },
   "outputs": [
    {
     "data": {
      "text/plain": [
       "'How do I randomly select an item from a list using Python?; Manually raising (throwing) an exception in Python; How can I do an UPDATE statement with JOIN in SQL?'"
      ]
     },
     "execution_count": 101,
     "metadata": {},
     "output_type": "execute_result"
    }
   ],
   "source": [
    "#Lets consider only top 3 scores here\n",
    "\n",
    "top_question = '; '.join(questions_data[questions_data.Id.isin(data_science_question_id)].sort_values('Score',ascending = False)[0:3].Title.tolist())\n",
    "top_question"
   ]
  },
  {
   "cell_type": "code",
   "execution_count": 102,
   "metadata": {},
   "outputs": [],
   "source": [
    "sql = \"INSERT INTO stackoverflow(Question,Answer) VALUES(%s,%s)\"\n",
    "val  = (\"Question 3\", top_question)\n",
    "cur.execute(sql,val)"
   ]
  },
  {
   "cell_type": "markdown",
   "metadata": {
    "id": "BBrSi_Eti4cH"
   },
   "source": [
    "Hence we get top 3 (here) suggestions to user based on the tags used. Here we have used data science tags but it can be used for any of the tags.\n",
    "\n",
    "Also, the actual and better solution to this problem would require ML algorithms in NLP like similarity check and context matching, but for the purpose of solving this question using EDA, this method is used"
   ]
  },
  {
   "cell_type": "code",
   "execution_count": 103,
   "metadata": {},
   "outputs": [
    {
     "data": {
      "text/plain": [
       "[('Top tag used', 'javascript'),\n",
       " ('Question 1', 'Jon Skeet; VonC; BalusC; Darin Dimitrov; Gordon Linoff'),\n",
       " ('Question 2', '7 days 11:17:15.364584'),\n",
       " ('Question 3',\n",
       "  'How do I randomly select an item from a list using Python?; Manually raising (throwing) an exception in Python; How can I do an UPDATE statement with JOIN in SQL?')]"
      ]
     },
     "execution_count": 103,
     "metadata": {},
     "output_type": "execute_result"
    }
   ],
   "source": [
    "#Lets see our dB\n",
    "\n",
    "cur.execute(\"SELECT * FROM stackoverflow\")\n",
    "result = cur.fetchall()\n",
    "result"
   ]
  }
 ],
 "metadata": {
  "colab": {
   "collapsed_sections": [
    "pt9NUB2vLsnM",
    "zLyyRWH8L6yw",
    "zlx_-ceFLY-P",
    "keSR2BZiMJNO",
    "r0n6C3VeNTbb",
    "fkhNz-dNNgW2",
    "bUElG7ssNlEa",
    "-vRWc7RNNpjY",
    "0KwxAft0Nuh0",
    "HcqwCJd5FnFL",
    "j9ErMU7CGMT9",
    "Ztm_wAKWURtG",
    "BAOsxzWJWdtZ",
    "BRF-Q7YkapiR",
    "3T_YzOtMk95x",
    "KX-pukTn70rs",
    "x-hdw9BaCSca",
    "M7rAUa1nD94p",
    "R4ouacsBHOdh",
    "ahOwd0cSQL_V",
    "hcsMN43wQV4g",
    "UIHnjUQ7j-iI",
    "s3XUrO0qgkbJ"
   ],
   "name": "Stack OverFlow Analysis.ipynb",
   "provenance": []
  },
  "kernelspec": {
   "display_name": "Python 3",
   "language": "python",
   "name": "python3"
  },
  "language_info": {
   "codemirror_mode": {
    "name": "ipython",
    "version": 3
   },
   "file_extension": ".py",
   "mimetype": "text/x-python",
   "name": "python",
   "nbconvert_exporter": "python",
   "pygments_lexer": "ipython3",
   "version": "3.7.6"
  }
 },
 "nbformat": 4,
 "nbformat_minor": 1
}
